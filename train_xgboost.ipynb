{
 "cells": [
  {
   "cell_type": "markdown",
   "metadata": {},
   "source": [
    "# Load And Train\n",
    "\n"
   ]
  },
  {
   "cell_type": "code",
   "execution_count": 3,
   "metadata": {},
   "outputs": [
    {
     "name": "stderr",
     "output_type": "stream",
     "text": [
      "Using TensorFlow backend.\n"
     ]
    }
   ],
   "source": [
    "import copy\n",
    "import datetime\n",
    "import matplotlib.pyplot as plt\n",
    "import numpy as np\n",
    "import xgboost as xgb\n",
    "\n",
    "from xgboost import XGBClassifier, plot_importance\n",
    "\n",
    "from src.train.utils import build_numpy, fetch_file_list\n",
    "\n",
    "\n",
    "X_COLUMNS = slice(7, 76)\n",
    "Y_COLUMNS = 0\n",
    "np.random.seed(100)\n",
    "\n",
    "\n",
    "TRAINING_DATA_DIR = './trainData/unNormed/'\n",
    "VALIDATION_DATA_DIR = './validationData/unNormed/'\n",
    "\n",
    "TRAIN_PORTION = 0.2\n",
    "VALIDATION_PORTION = 1.1\n",
    "MODEL_CHECKPOINT = '/Users/lucindazhao/strava/ml-local/snapshots/'\n",
    "LOG_DIR = '/Users/lucindazhao/strava/ml-local/logs/'\n",
    "\n",
    "XGBOOST_POSITIVE_WEIGHT = 10\n",
    "IS_CSV = False"
   ]
  },
  {
   "cell_type": "markdown",
   "metadata": {},
   "source": [
    "## Model Training"
   ]
  },
  {
   "cell_type": "code",
   "execution_count": 125,
   "metadata": {},
   "outputs": [
    {
     "name": "stdout",
     "output_type": "stream",
     "text": [
      "Number of Files: 3\n",
      "Number of Files: 1\n",
      "Number of Positive Training Windows: 159623.0\n",
      "Number of Negative Training Windows: 1765543.0\n"
     ]
    }
   ],
   "source": [
    "train_file_list = fetch_file_list(data_dir=TRAINING_DATA_DIR, portion=TRAIN_PORTION)\n",
    "tg = build_numpy(file_list=train_file_list, num_samples=None, xcolumns=X_COLUMNS, ycolumns=Y_COLUMNS, ytx=None,\n",
    "                 skip_header=1, shuffle=False, is_csv=IS_CSV)\n",
    "val_file_list = fetch_file_list(data_dir=VALIDATION_DATA_DIR, portion=VALIDATION_PORTION)\n",
    "vg = build_numpy(file_list=val_file_list, num_samples=None, xcolumns=X_COLUMNS, ycolumns=Y_COLUMNS, ytx=None,\n",
    "                 skip_header=1, shuffle=False, is_csv=IS_CSV)\n",
    "\n",
    "x_train = copy.deepcopy(tg[0])\n",
    "y_train = copy.deepcopy(tg[1].reshape(-1))\n",
    "x_val = copy.deepcopy(vg[0])\n",
    "y_val = copy.deepcopy(vg[1].reshape(-1))\n",
    "del tg\n",
    "del vg\n",
    "\n",
    "count = np.sum(y_train)\n",
    "print(\"Number of Positive Training Windows: {}\".format(count))\n",
    "print(\"Number of Negative Training Windows: {}\".format(len(y_train) - count))\n",
    "eval_set = [(x_train, y_train), (x_val, y_val)]\n"
   ]
  },
  {
   "cell_type": "code",
   "execution_count": null,
   "metadata": {},
   "outputs": [],
   "source": [
    "import pandas as pd\n",
    "\n",
    "import xgboost as xgb\n",
    "from tensorboard_logger import configure, log_value\n",
    "from sklearn.cross_validation import train_test_split\n",
    "\n",
    "\n",
    "def logspy(env):\n",
    "    log_value(\"train\", env.evaluation_result_list[0][1], step=env.iteration)\n",
    "    log_value(\"val\", env.evaluation_result_list[1][1], step=env.iteration)\n",
    "\n",
    "\n",
    "configure(\"logs/sample-1234\")\n",
    "\n",
    "boston = load_boston()\n",
    "df = pd.DataFrame(boston.data, columns=boston.feature_names)\n",
    "\n",
    "x1, x2, y1, y2 = train_test_split(\n",
    "    df, boston.target, test_size=0.1, random_state=18)\n",
    "\n",
    "dtrain = xgb.DMatrix(x1, y1)\n",
    "dvalid = xgb.DMatrix(x2, y2)\n",
    "watchlist = [(dtrain, 'train'), (dvalid, 'valid')]\n",
    "\n",
    "model = xgb.train(\n",
    "    params={},\n",
    "    num_boost_round=100,\n",
    "    dtrain=dtrain,\n",
    "    evals=watchlist,\n",
    "    callbacks=[logspy])"
   ]
  },
  {
   "cell_type": "code",
   "execution_count": 223,
   "metadata": {},
   "outputs": [
    {
     "name": "stdout",
     "output_type": "stream",
     "text": [
      "{'base_score': 0.5, 'booster': 'gbtree', 'colsample_bylevel': 1, 'colsample_bynode': 1, 'colsample_bytree': 0.8, 'gamma': 10, 'learning_rate': 1.1, 'max_delta_step': 0, 'max_depth': 7, 'min_child_weight': 7, 'missing': -100, 'n_estimators': 100, 'nthread': 4, 'objective': 'binary:logistic', 'reg_alpha': 0, 'reg_lambda': 1, 'scale_pos_weight': 10, 'seed': 1234, 'subsample': 0.8, 'verbosity': 2, 'colsample_by_level': 1, 'ax_delta_step': 0, 'tree_method': 'hist'}\n",
      "[14:31:27] INFO: src/learner.cc:215: Tree method is selected to be 'hist', which uses a single updater grow_quantile_histmaker.\n",
      "[14:31:38] INFO: src/tree/updater_quantile_hist.cc:63: Generating gmat: 9.19647 sec\n",
      "[14:31:38] INFO: src/tree/updater_prune.cc:74: tree pruning end, 1 roots, 252 extra nodes, 2 pruned nodes, max_depth=7\n",
      "[0]\tvalidation_0-error:0.304062\tvalidation_0-logloss:0.50383\tvalidation_1-error:0.316977\tvalidation_1-logloss:0.520406\n",
      "Multiple eval metrics have been passed: 'validation_1-logloss' will be used for early stopping.\n",
      "\n",
      "Will train until validation_1-logloss hasn't improved in 5 rounds.\n",
      "[14:31:41] INFO: src/tree/updater_prune.cc:74: tree pruning end, 1 roots, 250 extra nodes, 0 pruned nodes, max_depth=7\n",
      "[1]\tvalidation_0-error:0.262362\tvalidation_0-logloss:0.480018\tvalidation_1-error:0.27353\tvalidation_1-logloss:0.495373\n",
      "[14:31:44] INFO: src/tree/updater_prune.cc:74: tree pruning end, 1 roots, 242 extra nodes, 2 pruned nodes, max_depth=7\n",
      "[2]\tvalidation_0-error:0.189381\tvalidation_0-logloss:0.420296\tvalidation_1-error:0.199018\tvalidation_1-logloss:0.432818\n",
      "[14:31:48] INFO: src/tree/updater_prune.cc:74: tree pruning end, 1 roots, 220 extra nodes, 6 pruned nodes, max_depth=7\n",
      "[3]\tvalidation_0-error:0.195852\tvalidation_0-logloss:0.420382\tvalidation_1-error:0.204542\tvalidation_1-logloss:0.433359\n",
      "[14:31:51] INFO: src/tree/updater_prune.cc:74: tree pruning end, 1 roots, 160 extra nodes, 20 pruned nodes, max_depth=7\n",
      "[4]\tvalidation_0-error:0.189021\tvalidation_0-logloss:0.41278\tvalidation_1-error:0.19898\tvalidation_1-logloss:0.428192\n",
      "[14:31:55] INFO: src/tree/updater_prune.cc:74: tree pruning end, 1 roots, 228 extra nodes, 6 pruned nodes, max_depth=7\n",
      "[5]\tvalidation_0-error:0.181543\tvalidation_0-logloss:0.404057\tvalidation_1-error:0.191216\tvalidation_1-logloss:0.41961\n",
      "[14:31:58] INFO: src/tree/updater_prune.cc:74: tree pruning end, 1 roots, 194 extra nodes, 14 pruned nodes, max_depth=7\n",
      "[6]\tvalidation_0-error:0.17886\tvalidation_0-logloss:0.400083\tvalidation_1-error:0.188302\tvalidation_1-logloss:0.416768\n",
      "[14:32:01] INFO: src/tree/updater_prune.cc:74: tree pruning end, 1 roots, 200 extra nodes, 20 pruned nodes, max_depth=7\n",
      "[7]\tvalidation_0-error:0.177708\tvalidation_0-logloss:0.396898\tvalidation_1-error:0.187626\tvalidation_1-logloss:0.414339\n",
      "[14:32:04] INFO: src/tree/updater_prune.cc:74: tree pruning end, 1 roots, 238 extra nodes, 2 pruned nodes, max_depth=7\n",
      "[8]\tvalidation_0-error:0.174548\tvalidation_0-logloss:0.392594\tvalidation_1-error:0.185119\tvalidation_1-logloss:0.410463\n",
      "[14:32:07] INFO: src/tree/updater_prune.cc:74: tree pruning end, 1 roots, 230 extra nodes, 0 pruned nodes, max_depth=7\n",
      "[9]\tvalidation_0-error:0.173568\tvalidation_0-logloss:0.387993\tvalidation_1-error:0.185348\tvalidation_1-logloss:0.406938\n",
      "[14:32:10] INFO: src/tree/updater_prune.cc:74: tree pruning end, 1 roots, 240 extra nodes, 4 pruned nodes, max_depth=7\n",
      "[10]\tvalidation_0-error:0.170397\tvalidation_0-logloss:0.383114\tvalidation_1-error:0.181546\tvalidation_1-logloss:0.402228\n",
      "[14:32:13] INFO: src/tree/updater_prune.cc:74: tree pruning end, 1 roots, 180 extra nodes, 12 pruned nodes, max_depth=7\n",
      "[11]\tvalidation_0-error:0.169679\tvalidation_0-logloss:0.382752\tvalidation_1-error:0.180735\tvalidation_1-logloss:0.401893\n",
      "[14:32:16] INFO: src/tree/updater_prune.cc:74: tree pruning end, 1 roots, 234 extra nodes, 0 pruned nodes, max_depth=7\n",
      "[12]\tvalidation_0-error:0.16845\tvalidation_0-logloss:0.379813\tvalidation_1-error:0.179913\tvalidation_1-logloss:0.400177\n",
      "[14:32:20] INFO: src/tree/updater_prune.cc:74: tree pruning end, 1 roots, 228 extra nodes, 4 pruned nodes, max_depth=7\n",
      "[13]\tvalidation_0-error:0.165861\tvalidation_0-logloss:0.376241\tvalidation_1-error:0.177037\tvalidation_1-logloss:0.397223\n",
      "[14:32:23] INFO: src/tree/updater_prune.cc:74: tree pruning end, 1 roots, 230 extra nodes, 0 pruned nodes, max_depth=7\n",
      "[14]\tvalidation_0-error:0.163909\tvalidation_0-logloss:0.373034\tvalidation_1-error:0.175425\tvalidation_1-logloss:0.394982\n",
      "[14:32:26] INFO: src/tree/updater_prune.cc:74: tree pruning end, 1 roots, 204 extra nodes, 4 pruned nodes, max_depth=7\n",
      "[15]\tvalidation_0-error:0.162565\tvalidation_0-logloss:0.371494\tvalidation_1-error:0.173911\tvalidation_1-logloss:0.394057\n",
      "[14:32:29] INFO: src/tree/updater_prune.cc:74: tree pruning end, 1 roots, 98 extra nodes, 14 pruned nodes, max_depth=7\n"
     ]
    },
    {
     "ename": "KeyboardInterrupt",
     "evalue": "",
     "output_type": "error",
     "traceback": [
      "\u001b[0;31m---------------------------------------------------------------------------\u001b[0m",
      "\u001b[0;31mKeyboardInterrupt\u001b[0m                         Traceback (most recent call last)",
      "\u001b[0;32m<ipython-input-223-34e4c4d8fc85>\u001b[0m in \u001b[0;36m<module>\u001b[0;34m\u001b[0m\n\u001b[1;32m     15\u001b[0m                  \u001b[0;31m# last one is used for early stopping\u001b[0m\u001b[0;34m\u001b[0m\u001b[0;34m\u001b[0m\u001b[0m\n\u001b[1;32m     16\u001b[0m                  \u001b[0meval_metric\u001b[0m\u001b[0;34m=\u001b[0m\u001b[0;34m[\u001b[0m\u001b[0;34m\"error\"\u001b[0m\u001b[0;34m,\u001b[0m \u001b[0;34m\"logloss\"\u001b[0m\u001b[0;34m]\u001b[0m\u001b[0;34m,\u001b[0m\u001b[0;34m\u001b[0m\u001b[0m\n\u001b[0;32m---> 17\u001b[0;31m                  eval_set=eval_set, verbose=True)\n\u001b[0m\u001b[1;32m     18\u001b[0m \u001b[0;34m\u001b[0m\u001b[0m\n\u001b[1;32m     19\u001b[0m \u001b[0mkey\u001b[0m \u001b[0;34m=\u001b[0m \u001b[0;34m\"xgboost-unNormed-withWeight10-lr1.1-gamma10-mcw7-depth7\"\u001b[0m\u001b[0;34m\u001b[0m\u001b[0m\n",
      "\u001b[0;32m~/strava/ml-local/env/lib/python3.6/site-packages/xgboost/sklearn.py\u001b[0m in \u001b[0;36mfit\u001b[0;34m(self, X, y, sample_weight, eval_set, eval_metric, early_stopping_rounds, verbose, xgb_model, sample_weight_eval_set, callbacks)\u001b[0m\n\u001b[1;32m    730\u001b[0m                               \u001b[0mevals_result\u001b[0m\u001b[0;34m=\u001b[0m\u001b[0mevals_result\u001b[0m\u001b[0;34m,\u001b[0m \u001b[0mobj\u001b[0m\u001b[0;34m=\u001b[0m\u001b[0mobj\u001b[0m\u001b[0;34m,\u001b[0m \u001b[0mfeval\u001b[0m\u001b[0;34m=\u001b[0m\u001b[0mfeval\u001b[0m\u001b[0;34m,\u001b[0m\u001b[0;34m\u001b[0m\u001b[0m\n\u001b[1;32m    731\u001b[0m                               \u001b[0mverbose_eval\u001b[0m\u001b[0;34m=\u001b[0m\u001b[0mverbose\u001b[0m\u001b[0;34m,\u001b[0m \u001b[0mxgb_model\u001b[0m\u001b[0;34m=\u001b[0m\u001b[0mxgb_model\u001b[0m\u001b[0;34m,\u001b[0m\u001b[0;34m\u001b[0m\u001b[0m\n\u001b[0;32m--> 732\u001b[0;31m                               callbacks=callbacks)\n\u001b[0m\u001b[1;32m    733\u001b[0m \u001b[0;34m\u001b[0m\u001b[0m\n\u001b[1;32m    734\u001b[0m         \u001b[0mself\u001b[0m\u001b[0;34m.\u001b[0m\u001b[0mobjective\u001b[0m \u001b[0;34m=\u001b[0m \u001b[0mxgb_options\u001b[0m\u001b[0;34m[\u001b[0m\u001b[0;34m\"objective\"\u001b[0m\u001b[0;34m]\u001b[0m\u001b[0;34m\u001b[0m\u001b[0m\n",
      "\u001b[0;32m~/strava/ml-local/env/lib/python3.6/site-packages/xgboost/training.py\u001b[0m in \u001b[0;36mtrain\u001b[0;34m(params, dtrain, num_boost_round, evals, obj, feval, maximize, early_stopping_rounds, evals_result, verbose_eval, xgb_model, callbacks, learning_rates)\u001b[0m\n\u001b[1;32m    214\u001b[0m                            \u001b[0mevals\u001b[0m\u001b[0;34m=\u001b[0m\u001b[0mevals\u001b[0m\u001b[0;34m,\u001b[0m\u001b[0;34m\u001b[0m\u001b[0m\n\u001b[1;32m    215\u001b[0m                            \u001b[0mobj\u001b[0m\u001b[0;34m=\u001b[0m\u001b[0mobj\u001b[0m\u001b[0;34m,\u001b[0m \u001b[0mfeval\u001b[0m\u001b[0;34m=\u001b[0m\u001b[0mfeval\u001b[0m\u001b[0;34m,\u001b[0m\u001b[0;34m\u001b[0m\u001b[0m\n\u001b[0;32m--> 216\u001b[0;31m                            xgb_model=xgb_model, callbacks=callbacks)\n\u001b[0m\u001b[1;32m    217\u001b[0m \u001b[0;34m\u001b[0m\u001b[0m\n\u001b[1;32m    218\u001b[0m \u001b[0;34m\u001b[0m\u001b[0m\n",
      "\u001b[0;32m~/strava/ml-local/env/lib/python3.6/site-packages/xgboost/training.py\u001b[0m in \u001b[0;36m_train_internal\u001b[0;34m(params, dtrain, num_boost_round, evals, obj, feval, xgb_model, callbacks)\u001b[0m\n\u001b[1;32m     72\u001b[0m         \u001b[0;31m# Skip the first update if it is a recovery step.\u001b[0m\u001b[0;34m\u001b[0m\u001b[0;34m\u001b[0m\u001b[0m\n\u001b[1;32m     73\u001b[0m         \u001b[0;32mif\u001b[0m \u001b[0mversion\u001b[0m \u001b[0;34m%\u001b[0m \u001b[0;36m2\u001b[0m \u001b[0;34m==\u001b[0m \u001b[0;36m0\u001b[0m\u001b[0;34m:\u001b[0m\u001b[0;34m\u001b[0m\u001b[0m\n\u001b[0;32m---> 74\u001b[0;31m             \u001b[0mbst\u001b[0m\u001b[0;34m.\u001b[0m\u001b[0mupdate\u001b[0m\u001b[0;34m(\u001b[0m\u001b[0mdtrain\u001b[0m\u001b[0;34m,\u001b[0m \u001b[0mi\u001b[0m\u001b[0;34m,\u001b[0m \u001b[0mobj\u001b[0m\u001b[0;34m)\u001b[0m\u001b[0;34m\u001b[0m\u001b[0m\n\u001b[0m\u001b[1;32m     75\u001b[0m             \u001b[0mbst\u001b[0m\u001b[0;34m.\u001b[0m\u001b[0msave_rabit_checkpoint\u001b[0m\u001b[0;34m(\u001b[0m\u001b[0;34m)\u001b[0m\u001b[0;34m\u001b[0m\u001b[0m\n\u001b[1;32m     76\u001b[0m             \u001b[0mversion\u001b[0m \u001b[0;34m+=\u001b[0m \u001b[0;36m1\u001b[0m\u001b[0;34m\u001b[0m\u001b[0m\n",
      "\u001b[0;32m~/strava/ml-local/env/lib/python3.6/site-packages/xgboost/core.py\u001b[0m in \u001b[0;36mupdate\u001b[0;34m(self, dtrain, iteration, fobj)\u001b[0m\n\u001b[1;32m   1107\u001b[0m         \u001b[0;32mif\u001b[0m \u001b[0mfobj\u001b[0m \u001b[0;32mis\u001b[0m \u001b[0;32mNone\u001b[0m\u001b[0;34m:\u001b[0m\u001b[0;34m\u001b[0m\u001b[0m\n\u001b[1;32m   1108\u001b[0m             _check_call(_LIB.XGBoosterUpdateOneIter(self.handle, ctypes.c_int(iteration),\n\u001b[0;32m-> 1109\u001b[0;31m                                                     dtrain.handle))\n\u001b[0m\u001b[1;32m   1110\u001b[0m         \u001b[0;32melse\u001b[0m\u001b[0;34m:\u001b[0m\u001b[0;34m\u001b[0m\u001b[0m\n\u001b[1;32m   1111\u001b[0m             \u001b[0mpred\u001b[0m \u001b[0;34m=\u001b[0m \u001b[0mself\u001b[0m\u001b[0;34m.\u001b[0m\u001b[0mpredict\u001b[0m\u001b[0;34m(\u001b[0m\u001b[0mdtrain\u001b[0m\u001b[0;34m)\u001b[0m\u001b[0;34m\u001b[0m\u001b[0m\n",
      "\u001b[0;31mKeyboardInterrupt\u001b[0m: "
     ]
    }
   ],
   "source": [
    "\n",
    "\n",
    "my_model = XGBClassifier(base_score=0.5, booster='gbtree', colsample_by_level=1,\n",
    "                         colsample_bynode=1, colsample_bytree=0.8,\n",
    "                         gamma=10, learning_rate=1.1,\n",
    "                         ax_delta_step=0, max_depth=7,\n",
    "                         min_child_weight=7, missing=-100,\n",
    "                         n_estimators=100, n_jobs=4, nthread=4,\n",
    "                         objective='binary:logistic', random_state=0,\n",
    "                         reg_alpha=0, reg_lambda=1,\n",
    "                         scale_pos_weight=XGBOOST_POSITIVE_WEIGHT,\n",
    "                         seed=1234, subsample=0.8,\n",
    "                         verbosity=2, tree_method='hist')\n",
    "print(my_model.get_xgb_params())\n",
    "# logloss here equivalent to CategoricalCrossEntropy in tensorflow\n",
    "trained = my_model.fit(x_train, y_train, early_stopping_rounds=5,\n",
    "                 # last one is used for early stopping\n",
    "                 eval_metric=[\"error\", \"logloss\"],\n",
    "                 eval_set=eval_set, verbose=True)\n",
    "\n",
    "key = \"xgboost-unNormed-withWeight10-lr1.1-gamma10-mcw7-depth7\"\n",
    "file_path = MODEL_CHECKPOINT + key + datetime.datetime.now().strftime(\"%Y%m%d-%H%M%S\")\n",
    "print(file_path)\n",
    "# trained.save_model(file_path)"
   ]
  },
  {
   "cell_type": "markdown",
   "metadata": {},
   "source": [
    "# Plot Model Performance"
   ]
  },
  {
   "cell_type": "code",
   "execution_count": 162,
   "metadata": {},
   "outputs": [
    {
     "data": {
      "image/png": "[encoded data removed]",
      "text/plain": [
       "<Figure size 432x288 with 1 Axes>"
      ]
     },
     "metadata": {
      "needs_background": "light"
     },
     "output_type": "display_data"
    },
    {
     "data": {
      "image/png": "[encoded data removed]",
      "text/plain": [
       "<Figure size 432x288 with 1 Axes>"
      ]
     },
     "metadata": {
      "needs_background": "light"
     },
     "output_type": "display_data"
    },
    {
     "name": "stdout",
     "output_type": "stream",
     "text": [
      "XGBClassifier(ax_delta_step=0, base_score=0.5, booster='gbtree',\n",
      "              colsample_by_level=1, colsample_bylevel=1, colsample_bynode=1,\n",
      "              colsample_bytree=0.8, gamma=10, learning_rate=0.3,\n",
      "              max_delta_step=0, max_depth=7, min_child_weight=7, missing=-100,\n",
      "              n_estimators=1000, n_jobs=4, nthread=4,\n",
      "              objective='binary:logistic', random_state=0, reg_alpha=0,\n",
      "              reg_lambda=1, scale_pos_weight=1, seed=1234, silent=None,\n",
      "              subsample=0.8, tree_method='hist', verbosity=2)\n"
     ]
    },
    {
     "data": {
      "image/png": "[encoded data removed]",
      "text/plain": [
       "<Figure size 432x288 with 1 Axes>"
      ]
     },
     "metadata": {
      "needs_background": "light"
     },
     "output_type": "display_data"
    }
   ],
   "source": [
    "model = trained\n",
    "\n",
    "results = model.evals_result()\n",
    "epochs = len(results['validation_0']['logloss'])\n",
    "x_axis = range(0, epochs)\n",
    "# plot log loss\n",
    "fig, ax = plt.subplots()\n",
    "ax.plot(x_axis, results['validation_0']['logloss'], label='Train')\n",
    "ax.plot(x_axis, results['validation_1']['logloss'], label='Validation')\n",
    "ax.legend()\n",
    "plt.ylabel('Log Loss')\n",
    "plt.title('XGBoost Log Loss')\n",
    "plt.show()\n",
    "\n",
    "# plot accuracy\n",
    "fig, ax = plt.subplots()\n",
    "ax.plot(x_axis, 1 - np.array(results['validation_0']['error']), label='Train')\n",
    "ax.plot(x_axis, 1 - np.array(results['validation_1']['error']), label='Validation')\n",
    "ax.legend()\n",
    "plt.ylabel('Accuracy')\n",
    "plt.title('XGBoost Accuracy')\n",
    "plt.show()\n",
    "\n",
    "print(model)\n",
    "plot_importance(model)\n",
    "plt.show()"
   ]
  },
  {
   "cell_type": "markdown",
   "metadata": {},
   "source": [
    "## Load and Score\n"
   ]
  },
  {
   "cell_type": "code",
   "execution_count": 28,
   "metadata": {},
   "outputs": [],
   "source": [
    "file_path = '/Users/lucindazhao/strava/ml-local/models/V0/xgboost-noWeight20200219-124349'"
   ]
  },
  {
   "cell_type": "code",
   "execution_count": 29,
   "metadata": {},
   "outputs": [
    {
     "data": {
      "text/plain": [
       "68"
      ]
     },
     "execution_count": 29,
     "metadata": {},
     "output_type": "execute_result"
    }
   ],
   "source": [
    "my_booster = xgb.Booster({})  # init model\n",
    "my_booster.load_model(file_path) \n",
    "# my_model = xgb.XGBClassifier(base_score=0.5, booster='gbtree', colsample_bylevel=1,\n",
    "#               colsample_bynode=1, colsample_bytree=1, gamma=1,\n",
    "#               learning_rate=0.1, max_delta_step=0, max_depth=8,\n",
    "#               min_child_weight=1, missing=None, n_estimators=2000, n_jobs=4,\n",
    "#               nthread=None, objective='binary:logistic', random_state=0,\n",
    "#               reg_alpha=0, reg_lambda=1, scale_pos_weight=1, seed=1234,\n",
    "#               silent=None, subsample=0.8, verbosity=2)\n",
    "my_model = xgb.XGBClassifier()\n",
    "my_model._Booster = my_booster\n",
    "xxx = my_booster.get_score(fmap='', importance_type='total_gain')\n",
    "len(xxx)"
   ]
  },
  {
   "cell_type": "code",
   "execution_count": 54,
   "metadata": {},
   "outputs": [
    {
     "name": "stdout",
     "output_type": "stream",
     "text": [
      "Number of Files: 6\n",
      "0.3299846532657587 min taken for generating input\n"
     ]
    }
   ],
   "source": [
    "import xgboost as xgb\n",
    "from timeit import default_timer as timer\n",
    "from src.train.utils import build_numpy_pn, build_generator_pn, fetch_file_list\n",
    "\n",
    "TEST_DATA = './trainData/set1/'\n",
    "\n",
    "start = timer()\n",
    "test_file_list = fetch_file_list(data_dir=TEST_DATA, portion=0.2)\n",
    "\n",
    "tg = build_numpy(file_list=test_file_list, num_samples=None,\n",
    "                 xcolumns=X_COLUMNS, ycolumns=Y_COLUMNS, ytx=None, is_csv=IS_CSV)\n",
    "import copy\n",
    "\n",
    "x = copy.deepcopy(tg[0])\n",
    "y = copy.deepcopy(tg[1].reshape(-1))\n",
    "del tg\n",
    "end = timer()\n",
    "print(\"{} min taken for generating input\".format((end - start) / 60.0))\n",
    "\n",
    "\n"
   ]
  },
  {
   "cell_type": "code",
   "execution_count": 55,
   "metadata": {},
   "outputs": [
    {
     "data": {
      "text/plain": [
       "(1925165, 69)"
      ]
     },
     "execution_count": 55,
     "metadata": {},
     "output_type": "execute_result"
    }
   ],
   "source": [
    "x.shape"
   ]
  },
  {
   "cell_type": "code",
   "execution_count": 56,
   "metadata": {},
   "outputs": [],
   "source": [
    "y_hat = my_model.predict_proba(x)"
   ]
  },
  {
   "cell_type": "code",
   "execution_count": 57,
   "metadata": {},
   "outputs": [],
   "source": [
    "y_true = y.reshape(-1)\n",
    "y_scores = y_hat[:, 1].reshape(-1)\n",
    "\n",
    "result = np.stack([y_true, y_scores], axis=-1)"
   ]
  },
  {
   "cell_type": "code",
   "execution_count": 58,
   "metadata": {},
   "outputs": [
    {
     "name": "stdout",
     "output_type": "stream",
     "text": [
      "/Users/lucindazhao/strava/ml-local/models/V0/xgboost-noWeight20200219-124349\n",
      "xgboost-noWeight20200219-124349\n"
     ]
    }
   ],
   "source": [
    "print(file_path)\n",
    "\n",
    "pieces = file_path.split('/')\n",
    "model_id = pieces[-1]\n",
    "print(model_id)"
   ]
  },
  {
   "cell_type": "code",
   "execution_count": 59,
   "metadata": {},
   "outputs": [],
   "source": [
    "np.savetxt(\"./result/{}_onTrainData.csv\".format(model_id), result, fmt=['%1.0f', '%1.3f'],\n",
    "           delimiter=',', newline='\\n', header='label,score')"
   ]
  },
  {
   "cell_type": "markdown",
   "metadata": {},
   "source": [
    "# Feature Importance Analysis"
   ]
  },
  {
   "cell_type": "code",
   "execution_count": 30,
   "metadata": {},
   "outputs": [],
   "source": [
    "feature_name = [\"COMMUTE\",\n",
    "\"HAS_HEARTRATE\",\n",
    "\"HAS_CADENCE\",\n",
    "\"HAS_WATTS\",\n",
    "\"DISTANCE\",\n",
    "\"MOVING_TIME\",\n",
    "\"ELAPSED_TIME\",\n",
    "\"ELEV_GAIN\",\n",
    "\"SPEED1\",\n",
    "\"SPEED2\",\n",
    "\"MAX_CADENCE\",\n",
    "\"AVG_WATTS\",\n",
    "\"AVG_CADENCE\",\n",
    "\"MAX_HR\",\n",
    "\"ELEV_HIGH\",\n",
    "\"ELEV_LOW\",\n",
    "\"MAX_SPEED\",\n",
    "\"AVG_HR\",\n",
    "\"MAX_HEARTRATE\",\n",
    "\"MOBILE_FLAG\",\n",
    "\"RACE_FLAG\",\n",
    "\"STRAVA_TENURE_DAYS\",\n",
    "\"PREVIOUS_ACTIVITIES\",\n",
    "\"NUM_PHOTO_UPLOADS\",\n",
    "\"WEB_30D_FEED_VIEWS\",\n",
    "\"NUM_SEGMENTS_CREATED\",\n",
    "\"VERIFIED_FLAG\",\n",
    "\"PRO_FLAG\",\n",
    "\"NUM_TIMES_ATHLETE_FLAGGED\",\n",
    "\"speedMax\",\n",
    "\"speedMean\",\n",
    "\"speedStdDev\",\n",
    "\"speedP20\",\n",
    "\"speedMedian\",\n",
    "\"speedP70\",\n",
    "\"speedP90\",\n",
    "\"speedP90OverP70\",\n",
    "\"elevationMax\",\n",
    "\"elevationMean\",\n",
    "\"elevationStdDev\",\n",
    "\"cadenceMax\",\n",
    "\"cadenceMean\",\n",
    "\"cadenceStdDev\",\n",
    "\"cadenceP20\",\n",
    "\"cadenceMedian\",\n",
    "\"cadenceP70\",\n",
    "\"cadenceP90\",\n",
    "\"cadenceP90OverP70\",\n",
    "\"hrMax\",\n",
    "\"hrMean\",\n",
    "\"hrStdDev\",\n",
    "\"hrP20\",\n",
    "\"hrMedian\",\n",
    "\"hrP70\",\n",
    "\"hrP90\",\n",
    "\"hrP90OverP70\",\n",
    "\"powerMax\",\n",
    "\"powerStdDev\",\n",
    "\"powerP20\",\n",
    "\"powerMedian\",\n",
    "\"powerP70\",\n",
    "\"powerP90\",\n",
    "\"powerP90OverP70\",\n",
    "\"deltaTime\",\n",
    "\"normedElevGain\",\n",
    "\"log_distance\",\n",
    "\"max_hr_ratio\",\n",
    "\"mean_hr_ratio\",\n",
    "\"median_hr_ratio\"]\n",
    "\n",
    "feature_idx = ['f' + str(i) for i in range(0, len(feature_name))]\n",
    "feature_map = {}\n",
    "for i, j in zip(feature_idx, feature_name):\n",
    "    feature_map[i] = j\n",
    "\n"
   ]
  },
  {
   "cell_type": "code",
   "execution_count": 61,
   "metadata": {},
   "outputs": [
    {
     "data": {
      "text/plain": [
       "dict_keys(['f19', 'f64', 'f11', 'f62', 'f34', 'f3', 'f22', 'f10', 'f5', 'f39', 'f54', 'f9', 'f41', 'f45', 'f48', 'f42', 'f8', 'f4', 'f61', 'f35', 'f36', 'f31', 'f47', 'f43', 'f37', 'f17', 'f16', 'f53', 'f60', 'f32', 'f57', 'f28', 'f50', 'f18', 'f46', 'f68', 'f59', 'f15', 'f30', 'f33', 'f38', 'f14', 'f29', 'f23', 'f0', 'f21', 'f65', 'f12', 'f13', 'f7', 'f44', 'f66', 'f25', 'f56', 'f24', 'f55', 'f6', 'f63', 'f20', 'f2', 'f49', 'f67', 'f52', 'f1', 'f58', 'f51', 'f40', 'f27'])"
      ]
     },
     "execution_count": 61,
     "metadata": {},
     "output_type": "execute_result"
    }
   ],
   "source": [
    "importance.keys()"
   ]
  },
  {
   "cell_type": "code",
   "execution_count": 51,
   "metadata": {},
   "outputs": [],
   "source": [
    "#“gain”, “weight”, “cover”, “total_gain” or “total_cover”.\n",
    "# weight: In all trees, the number of times a feature is used to split a node\n",
    "# total_cover: the number of all instances in a tree that are processed each time a node is split.\n",
    "# cover: total_cover / weight\n",
    "# total_gain: In all trees, the total gain of a feature at each split node.\n",
    "# If the information before and after splitting is i0 and i1 by entropy or Gini impurity, the gain is (i0 - i1)\n",
    "# gain: total_gain / weight\n",
    "\n",
    "\n",
    "importance = my_model.get_booster().get_score(fmap='', importance_type='cover')\n",
    "\n",
    "indexes = list(importance.keys())\n",
    "name_array = []\n",
    "importance_array = []\n",
    "\n",
    "for idx in indexes:\n",
    "    name_array.append(feature_map.get(idx))\n",
    "    importance_array.append(importance.get(idx))\n",
    "    \n"
   ]
  },
  {
   "cell_type": "code",
   "execution_count": 52,
   "metadata": {},
   "outputs": [],
   "source": [
    "# sort by importance\n",
    "\n",
    "sorted_array = sorted(zip(importance_array, name_array), reverse=True)\n"
   ]
  },
  {
   "cell_type": "code",
   "execution_count": 53,
   "metadata": {},
   "outputs": [
    {
     "data": {
      "text/plain": [
       "[(61035.61359117662, 'RACE_FLAG'),\n",
       " (34036.16731111111, 'PRO_FLAG'),\n",
       " (10543.661743029246, 'MOBILE_FLAG'),\n",
       " (9394.844210773277, 'cadenceMax'),\n",
       " (9174.356527520544, 'HAS_WATTS'),\n",
       " (8974.85219880819, 'powerP70'),\n",
       " (8880.172644765235, 'powerP20'),\n",
       " (7839.656401513708, 'AVG_CADENCE'),\n",
       " (7543.538963732492, 'COMMUTE'),\n",
       " (6569.316642230595, 'speedStdDev'),\n",
       " (6357.7526916601855, 'powerP90OverP70'),\n",
       " (5752.2049210110545, 'cadenceMedian'),\n",
       " (5596.159693537771, 'speedP20'),\n",
       " (5380.024434205133, 'hrP70'),\n",
       " (5347.8501416543295, 'speedMean'),\n",
       " (5163.874833202041, 'MAX_CADENCE'),\n",
       " (5117.128867698952, 'powerMax'),\n",
       " (4982.082681191532, 'powerMedian'),\n",
       " (4769.792119242654, 'hrMax'),\n",
       " (4717.213442664194, 'cadenceP20')]"
      ]
     },
     "execution_count": 53,
     "metadata": {},
     "output_type": "execute_result"
    }
   ],
   "source": [
    "sorted_array[0:20]"
   ]
  },
  {
   "cell_type": "code",
   "execution_count": 28,
   "metadata": {
    "scrolled": true
   },
   "outputs": [
    {
     "name": "stdout",
     "output_type": "stream",
     "text": [
      "MOBILE_FLAG: 1114.2735918451058\n",
      "HAS_WATTS: 1033.4951186680005\n",
      "powerP20: 918.9455199513701\n",
      "powerP90OverP70: 918.6715677566295\n",
      "COMMUTE: 630.3080040748525\n",
      "hrP70: 610.9361640205555\n",
      "hrP90: 535.7200192322559\n",
      "AVG_CADENCE: 505.9224522417977\n",
      "hrMax: 505.058946126182\n",
      "AVG_WATTS: 377.6141514546722\n",
      "deltaTime: 353.4829545071231\n",
      "normedElevGain: 296.1809584712065\n",
      "RACE_FLAG: 288.6142147839475\n",
      "speedP70: 258.3399519841746\n",
      "MAX_HR: 245.73647479999514\n",
      "powerP90: 197.69550125149996\n",
      "cadenceMax: 197.40694003917656\n",
      "HAS_HEARTRATE: 194.7801976111111\n",
      "powerP70: 182.8645053940842\n",
      "speedP90OverP70: 169.08365683961054\n",
      "HAS_CADENCE: 168.35549920000003\n",
      "speedP90: 168.11323765975237\n",
      "PREVIOUS_ACTIVITIES: 158.82274076646502\n",
      "speedP20: 142.24918819492308\n",
      "log_distance: 142.2247558472337\n",
      "MOVING_TIME: 141.34473578447384\n",
      "SPEED2: 141.26289219379788\n",
      "powerMedian: 138.3215903807368\n",
      "speedMedian: 136.3392651258143\n",
      "DISTANCE: 134.77636943276156\n",
      "elevationStdDev: 132.47285982976703\n",
      "cadenceMean: 118.54431959723075\n",
      "MAX_HEARTRATE: 112.36366720942117\n",
      "SPEED1: 106.83665471355194\n",
      "speedStdDev: 104.03604907837654\n",
      "MAX_CADENCE: 101.01861462045625\n",
      "cadenceP90: 96.1523230364588\n",
      "hrP90OverP70: 93.94696950166595\n",
      "ELEV_GAIN: 92.88673074294081\n",
      "NUM_SEGMENTS_CREATED: 89.94906563913777\n",
      "hrStdDev: 89.90021002278267\n",
      "hrMedian: 84.38866138737835\n",
      "cadenceP20: 81.68582348113098\n",
      "ELEV_LOW: 80.39039799429759\n",
      "cadenceMedian: 75.33115380708057\n",
      "ELAPSED_TIME: 75.10522017772536\n",
      "NUM_PHOTO_UPLOADS: 72.56253601762378\n",
      "cadenceP70: 71.258902796208\n",
      "STRAVA_TENURE_DAYS: 67.95949972667071\n",
      "powerStdDev: 63.188321148383565\n",
      "elevationMean: 62.68641237896749\n",
      "powerMax: 62.55420845041669\n",
      "max_hr_ratio: 61.89360383734593\n",
      "hrMean: 60.72445629238461\n",
      "ELEV_HIGH: 60.42084747226866\n",
      "AVG_HR: 60.182719776915455\n",
      "cadenceStdDev: 59.152013266878484\n",
      "cadenceP90OverP70: 58.06512944362505\n",
      "NUM_TIMES_ATHLETE_FLAGGED: 57.96738075256793\n",
      "MAX_SPEED: 57.75947832616528\n",
      "WEB_30D_FEED_VIEWS: 55.865227745665536\n",
      "elevationMax: 54.637563608704156\n",
      "speedMean: 54.43806822197784\n",
      "hrP20: 53.36333389477043\n",
      "speedMax: 48.466718982945665\n",
      "median_hr_ratio: 48.19332672408824\n",
      "mean_hr_ratio: 46.3840239748222\n",
      "PRO_FLAG: 38.155059800000004\n",
      "VERIFIED_FLAG: 15.490129466666668\n"
     ]
    }
   ],
   "source": [
    "\n",
    "for i in range(len(sorted_array)-1, -1, -1):\n",
    "    print(sorted_array[i][1] + \": \" + str(sorted_array[i][0]))"
   ]
  },
  {
   "cell_type": "markdown",
   "metadata": {},
   "source": [
    "# Cross Validation To Double Check"
   ]
  },
  {
   "cell_type": "code",
   "execution_count": null,
   "metadata": {},
   "outputs": [],
   "source": [
    "dtrain = xgb.DMatrix(x_train, label=y_train)\n",
    "params = {'max_depth': 6, 'n_estimators': 1200, 'eta': 0.02, 'subsample': 0.8, 'colsample_bytree': 0.8,\n",
    "          'min_child_weight': 3, 'gamma': 0.1, 'scale_pos_weight': 10, 'seed': 1234,\n",
    "                     'verbosity': 2, 'tree_method': 'hist'}\n",
    "\n",
    "cv_results = xgb.cv(\n",
    "    params=params, dtrain=dtrain, num_boost_round=1200, nfold=10, stratified=False, folds=None,\n",
    "    metrics=('logloss', 'error'), obj=None, feval=None, maximize=False, early_stopping_rounds=100,\n",
    "    fpreproc=None, as_pandas=True, verbose_eval=2, show_stdv=True,\n",
    "    seed=1234, callbacks=None, shuffle=False)"
   ]
  },
  {
   "cell_type": "code",
   "execution_count": null,
   "metadata": {},
   "outputs": [],
   "source": [
    "cv_results"
   ]
  },
  {
   "cell_type": "markdown",
   "metadata": {},
   "source": [
    "# HyperParameter Search"
   ]
  },
  {
   "cell_type": "code",
   "execution_count": 65,
   "metadata": {},
   "outputs": [
    {
     "name": "stdout",
     "output_type": "stream",
     "text": [
      "[11:19:09] INFO: src/learner.cc:215: Tree method is selected to be 'hist', which uses a single updater grow_quantile_histmaker.\n",
      "[11:19:11] INFO: src/tree/updater_quantile_hist.cc:63: Generating gmat: 1.55963 sec\n",
      "[11:19:11] INFO: src/tree/updater_prune.cc:74: tree pruning end, 1 roots, 106 extra nodes, 0 pruned nodes, max_depth=6\n",
      "[0]\tvalidation_0-error:0.432349\tvalidation_0-logloss:0.995246\tvalidation_1-error:0.443135\tvalidation_1-logloss:1.02046\n",
      "Multiple eval metrics have been passed: 'validation_1-logloss' will be used for early stopping.\n",
      "\n",
      "Will train until validation_1-logloss hasn't improved in 5 rounds.\n",
      "[11:19:12] INFO: src/tree/updater_prune.cc:74: tree pruning end, 1 roots, 126 extra nodes, 0 pruned nodes, max_depth=6\n",
      "[1]\tvalidation_0-error:0.138437\tvalidation_0-logloss:0.4599\tvalidation_1-error:0.149279\tvalidation_1-logloss:0.481144\n",
      "[11:19:13] INFO: src/tree/updater_prune.cc:74: tree pruning end, 1 roots, 126 extra nodes, 0 pruned nodes, max_depth=6\n",
      "[2]\tvalidation_0-error:0.22051\tvalidation_0-logloss:0.681696\tvalidation_1-error:0.231226\tvalidation_1-logloss:0.704446\n",
      "[11:19:14] INFO: src/tree/updater_prune.cc:74: tree pruning end, 1 roots, 114 extra nodes, 0 pruned nodes, max_depth=6\n",
      "[3]\tvalidation_0-error:0.205382\tvalidation_0-logloss:0.630513\tvalidation_1-error:0.216149\tvalidation_1-logloss:0.655565\n",
      "[11:19:14] INFO: src/tree/updater_prune.cc:74: tree pruning end, 1 roots, 118 extra nodes, 0 pruned nodes, max_depth=6\n",
      "[4]\tvalidation_0-error:0.208106\tvalidation_0-logloss:0.61965\tvalidation_1-error:0.219438\tvalidation_1-logloss:0.647237\n",
      "[11:19:15] INFO: src/tree/updater_prune.cc:74: tree pruning end, 1 roots, 120 extra nodes, 0 pruned nodes, max_depth=6\n",
      "[5]\tvalidation_0-error:0.192691\tvalidation_0-logloss:0.597683\tvalidation_1-error:0.204144\tvalidation_1-logloss:0.62644\n",
      "[11:19:16] INFO: src/tree/updater_prune.cc:74: tree pruning end, 1 roots, 114 extra nodes, 0 pruned nodes, max_depth=6\n",
      "[6]\tvalidation_0-error:0.192345\tvalidation_0-logloss:0.581337\tvalidation_1-error:0.203499\tvalidation_1-logloss:0.610896\n",
      "Stopping. Best iteration:\n",
      "[1]\tvalidation_0-error:0.138437\tvalidation_0-logloss:0.4599\tvalidation_1-error:0.149279\tvalidation_1-logloss:0.481144\n",
      "\n"
     ]
    }
   ],
   "source": [
    "# First set learning rate high and set early stop to get best # estimators\n",
    "\n",
    "# parameters = {\"base_score\": 0.1, \"booster\": 'gbtree', \"colsample_by_level\": 1,\n",
    "#                          \"colsample_bynode\": 1, \"colsample_bytree\": 0.8,\n",
    "#                          \"eta\": 0.8, \"learning_rate\": 0.8, \"gamma\": 0.1, \n",
    "#                          \"ax_delta_step\": 0, \"max_depth\": 6,\n",
    "#                          \"min_child_weight\": 3, \"missing\": None,\n",
    "#                          \"n_estimators\": 10, \"nthread\": None, \"n_jobs\": 4,\n",
    "#                          \"objective\": 'binary:logistic', \"random_state\": 0,\n",
    "#                          \"reg_alpha\": 0, \"reg_lambda\": 1,\n",
    "#                          \"seed\": 1234, \"subsample\": 0.8,\n",
    "#                          \"verbosity\": 2, \"tree_method\":'hist'}\n",
    "\n",
    "my_model = XGBClassifier(base_score=0.5, booster='gbtree', colsample_by_level=1,\n",
    "                         colsample_bynode=1, colsample_bytree=0.8,\n",
    "                         learning_rate=0.75, gamma=0.1, \n",
    "                         ax_delta_step=0, max_depth=6,\n",
    "                         min_child_weight=3, missing=None,\n",
    "                         n_estimators=2000, n_jobs=4, nthread=None,\n",
    "                         objective='binary:logistic', random_state=0,\n",
    "                         reg_alpha=0, reg_lambda=1,\n",
    "                         scale_pos_weight=1,\n",
    "                         seed=1234, subsample=0.8,\n",
    "                         verbosity=2, tree_method='hist')\n",
    "my_model.get_xgb_params()\n",
    "# logloss here equivalent to CategoricalCrossEntropy in tensorflow\n",
    "trained = my_model.fit(x_train, y_train, early_stopping_rounds=5,\n",
    "                 # last one is used for early stopping\n",
    "                 eval_metric=[\"error\", \"logloss\"],\n",
    "                 eval_set=eval_set, verbose=True)\n",
    "\n",
    "# key = \"xgboost-withClassWeight\"\n",
    "# file_path = MODEL_CHECKPOINT + key + datetime.datetime.now().strftime(\"%Y%m%d-%H%M%S\")\n",
    "# trained.save_model(file_path)"
   ]
  },
  {
   "cell_type": "code",
   "execution_count": 33,
   "metadata": {},
   "outputs": [],
   "source": [
    "# Fix learning rate and number of estimators for tuning sklearn"
   ]
  },
  {
   "cell_type": "code",
   "execution_count": 35,
   "metadata": {},
   "outputs": [],
   "source": [
    "from sklearn.model_selection import GridSearchCV\n",
    "\n",
    "# parameters = {'kernel':('linear', 'rbf'), 'C':[1, 10]}\n",
    "\n",
    "# clf = GridSearchCV(svc, parameters)\n",
    "# clf.fit(iris.data, iris.target)\n",
    "# GridSearchCV(estimator=SVC(),\n",
    "#              param_grid={'C': [1, 10], 'kernel': ('linear', 'rbf')})\n",
    "# sorted(clf.cv_results_.keys())"
   ]
  },
  {
   "cell_type": "code",
   "execution_count": 148,
   "metadata": {},
   "outputs": [
    {
     "name": "stdout",
     "output_type": "stream",
     "text": [
      "Fitting 3 folds for each of 10 candidates, totalling 30 fits\n"
     ]
    },
    {
     "name": "stderr",
     "output_type": "stream",
     "text": [
      "[Parallel(n_jobs=4)]: Using backend LokyBackend with 4 concurrent workers.\n",
      "/Users/lucindazhao/strava/ml-local/env/lib/python3.6/site-packages/joblib/externals/loky/process_executor.py:706: UserWarning: A worker stopped while some jobs were given to the executor. This can be caused by a too short worker timeout or by a memory leak.\n",
      "  \"timeout or by a memory leak.\", UserWarning\n",
      "[Parallel(n_jobs=4)]: Done  30 out of  30 | elapsed: 24.8min finished\n",
      "/Users/lucindazhao/strava/ml-local/env/lib/python3.6/site-packages/sklearn/model_selection/_search.py:823: FutureWarning: The parameter 'iid' is deprecated in 0.22 and will be removed in 0.24.\n",
      "  \"removed in 0.24.\", FutureWarning\n"
     ]
    },
    {
     "data": {
      "text/plain": [
       "GridSearchCV(cv=3, error_score=nan,\n",
       "             estimator=XGBClassifier(ax_delta_step=0, base_score=0.5,\n",
       "                                     booster='gbtree', colsample_by_level=1,\n",
       "                                     colsample_bylevel=1, colsample_bynode=1,\n",
       "                                     colsample_bytree=0.8, gamma=0.1,\n",
       "                                     learning_rate=0.7, max_delta_step=0,\n",
       "                                     max_depth=8, min_child_weight=3,\n",
       "                                     missing=-100, n_estimators=150, n_jobs=4,\n",
       "                                     nthread=None, objective='binary:logistic',\n",
       "                                     random_state=0, reg_alpha=0, reg_lambda=1,\n",
       "                                     scale_pos_weight=1, seed=1234, silent=None,\n",
       "                                     subsample=0.8, tree_method='hist',\n",
       "                                     verbosity=2),\n",
       "             iid=False, n_jobs=4,\n",
       "             param_grid={'gamma': [1, 5, 8, 10, 15], 'max_depth': [5],\n",
       "                         'min_child_weight': [1, 5]},\n",
       "             pre_dispatch='2*n_jobs', refit=False, return_train_score=False,\n",
       "             scoring=['accuracy', 'neg_log_loss'], verbose=2)"
      ]
     },
     "execution_count": 148,
     "metadata": {},
     "output_type": "execute_result"
    }
   ],
   "source": [
    "# set learning_rate to 0.75 and estimators to \n",
    "param_test1 = {\n",
    " 'max_depth':[5],\n",
    " 'gamma': [1, 5, 8, 10, 15],\n",
    " 'min_child_weight': [1, 5]\n",
    "}\n",
    "gsearch1 = GridSearchCV(estimator = XGBClassifier(base_score=0.5, booster='gbtree', colsample_by_level=1,\n",
    "                         colsample_bynode=1, colsample_bytree=0.8,\n",
    "                         gamma=0.1, learning_rate=0.7,\n",
    "                         ax_delta_step=0, max_depth=8,\n",
    "                         min_child_weight=3,missing=-100,\n",
    "                         n_estimators=150, n_jobs=4, nthread=None,\n",
    "                         objective='binary:logistic', random_state=0,\n",
    "                         reg_alpha=0, reg_lambda=1,\n",
    "                         scale_pos_weight=XGBOOST_POSITIVE_WEIGHT,\n",
    "                         seed=1234, subsample=0.8,\n",
    "                         verbosity=2, tree_method='hist'),\n",
    "                        param_grid = param_test1, scoring=[\"accuracy\", \"neg_log_loss\"],n_jobs=4,iid=False,\n",
    "                        cv=3, refit=False, verbose=2)\n",
    "\n",
    "gsearch1.fit(x_train, y_train)\n"
   ]
  },
  {
   "cell_type": "code",
   "execution_count": 149,
   "metadata": {},
   "outputs": [
    {
     "data": {
      "text/plain": [
       "{'mean_fit_time': array([184.55234543, 183.44084938, 178.01039171, 180.26019239,\n",
       "        175.65034238, 176.95909945, 179.04701781, 179.74266092,\n",
       "        175.96921539, 165.05632591]),\n",
       " 'std_fit_time': array([0.62543105, 9.34673544, 1.20708283, 0.37169032, 0.62543163,\n",
       "        1.20737256, 0.31068869, 0.37495029, 0.30177686, 7.83375111]),\n",
       " 'mean_score_time': array([ 9.86879524, 10.19928598, 10.01265049, 10.03938627, 10.07174929,\n",
       "        10.00922497,  9.85393659,  9.91008337,  9.49387598,  8.51746702]),\n",
       " 'std_score_time': array([0.070983  , 0.12680132, 0.01238536, 0.07158804, 0.06427559,\n",
       "        0.09560083, 0.13380809, 0.23240231, 0.09257372, 0.46805031]),\n",
       " 'param_gamma': masked_array(data=[1, 1, 5, 5, 8, 8, 10, 10, 15, 15],\n",
       "              mask=[False, False, False, False, False, False, False, False,\n",
       "                    False, False],\n",
       "        fill_value='?',\n",
       "             dtype=object),\n",
       " 'param_max_depth': masked_array(data=[5, 5, 5, 5, 5, 5, 5, 5, 5, 5],\n",
       "              mask=[False, False, False, False, False, False, False, False,\n",
       "                    False, False],\n",
       "        fill_value='?',\n",
       "             dtype=object),\n",
       " 'param_min_child_weight': masked_array(data=[1, 5, 1, 5, 1, 5, 1, 5, 1, 5],\n",
       "              mask=[False, False, False, False, False, False, False, False,\n",
       "                    False, False],\n",
       "        fill_value='?',\n",
       "             dtype=object),\n",
       " 'params': [{'gamma': 1, 'max_depth': 5, 'min_child_weight': 1},\n",
       "  {'gamma': 1, 'max_depth': 5, 'min_child_weight': 5},\n",
       "  {'gamma': 5, 'max_depth': 5, 'min_child_weight': 1},\n",
       "  {'gamma': 5, 'max_depth': 5, 'min_child_weight': 5},\n",
       "  {'gamma': 8, 'max_depth': 5, 'min_child_weight': 1},\n",
       "  {'gamma': 8, 'max_depth': 5, 'min_child_weight': 5},\n",
       "  {'gamma': 10, 'max_depth': 5, 'min_child_weight': 1},\n",
       "  {'gamma': 10, 'max_depth': 5, 'min_child_weight': 5},\n",
       "  {'gamma': 15, 'max_depth': 5, 'min_child_weight': 1},\n",
       "  {'gamma': 15, 'max_depth': 5, 'min_child_weight': 5}],\n",
       " 'split0_test_accuracy': array([0.94297531, 0.94294414, 0.94314984, 0.94323554, 0.94318412,\n",
       "        0.94305322, 0.94313737, 0.94314828, 0.94286155, 0.94295193]),\n",
       " 'split1_test_accuracy': array([0.94300803, 0.9431249 , 0.94305166, 0.94334307, 0.94302206,\n",
       "        0.94274624, 0.94299712, 0.94282727, 0.94307192, 0.94277429]),\n",
       " 'split2_test_accuracy': array([0.94268079, 0.94264806, 0.94251872, 0.94257326, 0.94233484,\n",
       "        0.94261378, 0.94222888, 0.94255768, 0.94210421, 0.94231614]),\n",
       " 'mean_test_accuracy': array([0.94288804, 0.9429057 , 0.94290674, 0.94305063, 0.94284701,\n",
       "        0.94280441, 0.94278779, 0.94284441, 0.94267923, 0.94268079]),\n",
       " 'std_test_accuracy': array([0.00014716, 0.00019656, 0.00027728, 0.00034039, 0.00036815,\n",
       "        0.00018406, 0.00039934, 0.00024142, 0.00041557, 0.00026785]),\n",
       " 'rank_test_accuracy': array([ 4,  3,  2,  1,  5,  7,  8,  6, 10,  9], dtype=int32),\n",
       " 'split0_test_neg_log_loss': array([-0.16751263, -0.167584  , -0.1677676 , -0.16737938, -0.16714827,\n",
       "        -0.16728876, -0.16756446, -0.16721092, -0.16774213, -0.16765593]),\n",
       " 'split1_test_neg_log_loss': array([-0.16871343, -0.16813877, -0.16826588,         nan,         nan,\n",
       "        -0.16872831, -0.16827415,         nan, -0.16842613,         nan]),\n",
       " 'split2_test_neg_log_loss': array([-0.16900025, -0.1688218 , -0.16909498, -0.16850722, -0.16903101,\n",
       "        -0.16852078, -0.16908548, -0.16905487, -0.16961868, -0.16948899]),\n",
       " 'mean_test_neg_log_loss': array([-0.16840877, -0.16818152, -0.16837615,         nan,         nan,\n",
       "        -0.16817928, -0.16830803,         nan, -0.16859565,         nan]),\n",
       " 'std_test_neg_log_loss': array([0.00064439, 0.00050623, 0.00054748,        nan,        nan,\n",
       "        0.00063537, 0.00062142,        nan, 0.00077542,        nan]),\n",
       " 'rank_test_neg_log_loss': array([ 5,  2,  4,  7,  8,  1,  3,  9,  6, 10], dtype=int32)}"
      ]
     },
     "execution_count": 149,
     "metadata": {},
     "output_type": "execute_result"
    }
   ],
   "source": [
    "gsearch1.cv_results_"
   ]
  },
  {
   "cell_type": "code",
   "execution_count": 150,
   "metadata": {},
   "outputs": [
    {
     "name": "stdout",
     "output_type": "stream",
     "text": [
      "Index: 3\n",
      "{'gamma': 5, 'max_depth': 5, 'min_child_weight': 5}\n",
      "0.943050625244784\n",
      "Index: 2\n",
      "{'gamma': 5, 'max_depth': 5, 'min_child_weight': 1}\n",
      "0.942906741548521\n",
      "Index: 1\n",
      "{'gamma': 1, 'max_depth': 5, 'min_child_weight': 5}\n",
      "0.9429057026770679\n",
      "Index: 0\n",
      "{'gamma': 1, 'max_depth': 5, 'min_child_weight': 1}\n",
      "0.9428880418623641\n",
      "Index: 4\n",
      "{'gamma': 8, 'max_depth': 5, 'min_child_weight': 1}\n",
      "0.9428470064399641\n",
      "Index: 6\n",
      "{'gamma': 10, 'max_depth': 5, 'min_child_weight': 1}\n",
      "0.9427877907671339\n",
      "Index: 7\n",
      "{'gamma': 10, 'max_depth': 5, 'min_child_weight': 5}\n",
      "0.9428444092613312\n",
      "Index: 5\n",
      "{'gamma': 8, 'max_depth': 5, 'min_child_weight': 5}\n",
      "0.9428044127103844\n"
     ]
    }
   ],
   "source": [
    "x = gsearch1.cv_results_['rank_test_accuracy']\n",
    "for i in x[0:8]:\n",
    "    idx = i - 1\n",
    "    print(\"Index: {}\".format(idx))\n",
    "    print(gsearch1.cv_results_['params'][idx])\n",
    "    print(gsearch1.cv_results_['mean_test_accuracy'][idx])"
   ]
  },
  {
   "cell_type": "code",
   "execution_count": 144,
   "metadata": {},
   "outputs": [
    {
     "name": "stdout",
     "output_type": "stream",
     "text": [
      "Index: 10\n",
      "{'gamma': 10, 'max_depth': 7, 'min_child_weight': 7}\n",
      "0.9436495346375325\n",
      "Index: 8\n",
      "{'gamma': 10, 'max_depth': 7, 'min_child_weight': 1}\n",
      "0.9435321421633253\n",
      "Index: 0\n",
      "{'gamma': 5, 'max_depth': 7, 'min_child_weight': 1}\n",
      "0.9434573434186975\n",
      "Index: 1\n",
      "{'gamma': 5, 'max_depth': 7, 'min_child_weight': 5}\n",
      "0.9436412236659072\n",
      "Index: 11\n",
      "{'gamma': 10, 'max_depth': 7, 'min_child_weight': 9}\n",
      "0.9437393970182312\n",
      "Index: 6\n",
      "{'gamma': 8, 'max_depth': 7, 'min_child_weight': 7}\n",
      "0.9437305666108794\n",
      "Index: 4\n",
      "{'gamma': 8, 'max_depth': 7, 'min_child_weight': 1}\n",
      "0.9434438380898063\n",
      "Index: 2\n",
      "{'gamma': 5, 'max_depth': 7, 'min_child_weight': 7}\n",
      "0.9438666587712436\n"
     ]
    }
   ],
   "source": [
    "x = gsearch1.cv_results_['rank_test_accuracy']\n",
    "for i in x[0:8]:\n",
    "    idx = i - 1\n",
    "    print(\"Index: {}\".format(idx))\n",
    "    print(gsearch1.cv_results_['params'][idx])\n",
    "    print(gsearch1.cv_results_['mean_test_accuracy'][idx])"
   ]
  },
  {
   "cell_type": "code",
   "execution_count": 141,
   "metadata": {},
   "outputs": [
    {
     "name": "stdout",
     "output_type": "stream",
     "text": [
      "Index: 14\n",
      "{'gamma': 5, 'max_depth': 7}\n",
      "0.9435549973352947\n",
      "Index: 5\n",
      "{'gamma': 1, 'max_depth': 6}\n",
      "0.9433737142667177\n",
      "Index: 7\n",
      "{'gamma': 1, 'max_depth': 8}\n",
      "0.943164901104632\n",
      "Index: 4\n",
      "{'gamma': 1, 'max_depth': 5}\n",
      "0.9429088192914273\n",
      "Index: 13\n",
      "{'gamma': 5, 'max_depth': 6}\n",
      "0.9433518979662013\n",
      "Index: 6\n",
      "{'gamma': 1, 'max_depth': 7}\n",
      "0.943496301098191\n",
      "Index: 2\n",
      "{'gamma': 0.1, 'max_depth': 7}\n",
      "0.9433680004737255\n",
      "Index: 11\n",
      "{'gamma': 3, 'max_depth': 8}\n",
      "0.9432999543935431\n"
     ]
    }
   ],
   "source": [
    "x = gsearch1.cv_results_['rank_test_accuracy']\n",
    "for i in x[0:8]:\n",
    "    idx = i - 1\n",
    "    print(\"Index: {}\".format(idx))\n",
    "    print(gsearch1.cv_results_['params'][idx])\n",
    "    print(gsearch1.cv_results_['mean_test_accuracy'][idx])"
   ]
  },
  {
   "cell_type": "code",
   "execution_count": 76,
   "metadata": {},
   "outputs": [
    {
     "name": "stdout",
     "output_type": "stream",
     "text": [
      "Fitting 2 folds for each of 5 candidates, totalling 10 fits\n"
     ]
    },
    {
     "name": "stderr",
     "output_type": "stream",
     "text": [
      "[Parallel(n_jobs=4)]: Using backend LokyBackend with 4 concurrent workers.\n",
      "/Users/lucindazhao/strava/ml-local/env/lib/python3.6/site-packages/joblib/externals/loky/process_executor.py:706: UserWarning: A worker stopped while some jobs were given to the executor. This can be caused by a too short worker timeout or by a memory leak.\n",
      "  \"timeout or by a memory leak.\", UserWarning\n",
      "[Parallel(n_jobs=4)]: Done  10 out of  10 | elapsed:  2.5min finished\n",
      "/Users/lucindazhao/strava/ml-local/env/lib/python3.6/site-packages/sklearn/model_selection/_search.py:823: FutureWarning: The parameter 'iid' is deprecated in 0.22 and will be removed in 0.24.\n",
      "  \"removed in 0.24.\", FutureWarning\n"
     ]
    },
    {
     "data": {
      "text/plain": [
       "GridSearchCV(cv=2, error_score=nan,\n",
       "             estimator=XGBClassifier(ax_delta_step=0, base_score=0.1,\n",
       "                                     booster='gbtree', colsample_by_level=1,\n",
       "                                     colsample_bylevel=1, colsample_bynode=1,\n",
       "                                     colsample_bytree=0.8, gamma=0,\n",
       "                                     learning_rate=0.75, max_delta_step=0,\n",
       "                                     max_depth=8, min_child_weight=1,\n",
       "                                     missing=None, n_estimators=140, n_jobs=4,\n",
       "                                     nthread=None, objective='binary:logistic',\n",
       "                                     random_state=0, reg_alpha=0, reg_lambda=1,\n",
       "                                     scale_pos_weight=10, seed=1234,\n",
       "                                     silent=None, subsample=0.8,\n",
       "                                     tree_method='hist', verbosity=2),\n",
       "             iid=False, n_jobs=4, param_grid={'gamma': [0, 0.3, 1, 3, 5]},\n",
       "             pre_dispatch='2*n_jobs', refit=False, return_train_score=False,\n",
       "             scoring=['accuracy', 'neg_log_loss'], verbose=2)"
      ]
     },
     "execution_count": 76,
     "metadata": {},
     "output_type": "execute_result"
    }
   ],
   "source": [
    "# Tune Gamma\n",
    "# set max_depth to 8 and min_child_weight to 1\n",
    "param_test1 = {\n",
    " 'gamma':[0, 0.3, 1, 3, 5],\n",
    "}\n",
    "gsearch2 = GridSearchCV(estimator = XGBClassifier(base_score=0.1, booster='gbtree', colsample_by_level=1,\n",
    "                         colsample_bynode=1, colsample_bytree=0.8,\n",
    "                         learning_rate=0.75, \n",
    "                         ax_delta_step=0, max_depth=8,\n",
    "                         min_child_weight=1, missing=None,\n",
    "                         n_estimators=140, n_jobs=4, nthread=None,\n",
    "                         objective='binary:logistic', random_state=0,\n",
    "                         reg_alpha=0, reg_lambda=1,\n",
    "                         scale_pos_weight=XGBOOST_POSITIVE_WEIGHT,\n",
    "                         seed=1234, subsample=0.8,\n",
    "                         verbosity=2, tree_method='hist'),\n",
    "                        param_grid = param_test1, scoring=[\"accuracy\", \"neg_log_loss\"],n_jobs=4,iid=False,\n",
    "                        cv=2, refit=False, verbose=2)\n",
    "\n",
    "gsearch2.fit(x_train, y_train)"
   ]
  },
  {
   "cell_type": "code",
   "execution_count": 77,
   "metadata": {},
   "outputs": [
    {
     "data": {
      "text/plain": [
       "{'mean_fit_time': array([45.93323338, 45.57745004, 46.93528044, 46.59894049, 42.67984092]),\n",
       " 'std_fit_time': array([0.3984195 , 0.15898299, 0.04405534, 0.16289055, 0.06685007]),\n",
       " 'mean_score_time': array([4.7802465 , 4.83309948, 4.77295506, 4.69449353, 3.94773555]),\n",
       " 'std_score_time': array([0.02002573, 0.04510558, 0.00315511, 0.03703141, 0.01048636]),\n",
       " 'param_gamma': masked_array(data=[0, 0.3, 1, 3, 5],\n",
       "              mask=[False, False, False, False, False],\n",
       "        fill_value='?',\n",
       "             dtype=object),\n",
       " 'params': [{'gamma': 0},\n",
       "  {'gamma': 0.3},\n",
       "  {'gamma': 1},\n",
       "  {'gamma': 3},\n",
       "  {'gamma': 5}],\n",
       " 'split0_test_accuracy': array([0.91757204, 0.9163254 , 0.9179024 , 0.91325866, 0.91205565]),\n",
       " 'split1_test_accuracy': array([0.91691704, 0.91634358, 0.91643084, 0.91481643, 0.91034096]),\n",
       " 'mean_test_accuracy': array([0.91724454, 0.91633449, 0.91716662, 0.91403755, 0.9111983 ]),\n",
       " 'std_test_accuracy': array([3.27502425e-04, 9.08908994e-06, 7.35779149e-04, 7.78885678e-04,\n",
       "        8.57345709e-04]),\n",
       " 'rank_test_accuracy': array([1, 3, 2, 4, 5], dtype=int32),\n",
       " 'split0_test_neg_log_loss': array([nan, nan, nan, nan, nan]),\n",
       " 'split1_test_neg_log_loss': array([nan, nan, nan, nan, nan]),\n",
       " 'mean_test_neg_log_loss': array([nan, nan, nan, nan, nan]),\n",
       " 'std_test_neg_log_loss': array([nan, nan, nan, nan, nan]),\n",
       " 'rank_test_neg_log_loss': array([1, 2, 3, 4, 5], dtype=int32)}"
      ]
     },
     "execution_count": 77,
     "metadata": {},
     "output_type": "execute_result"
    }
   ],
   "source": [
    "gsearch2.cv_results_"
   ]
  },
  {
   "cell_type": "code",
   "execution_count": null,
   "metadata": {},
   "outputs": [],
   "source": [
    "# set gamma to 1, doesn't seem to play critical role\n"
   ]
  }
 ],
 "metadata": {
  "kernelspec": {
   "display_name": "Python 3",
   "language": "python",
   "name": "python3"
  },
  "language_info": {
   "codemirror_mode": {
    "name": "ipython",
    "version": 3
   },
   "file_extension": ".py",
   "mimetype": "text/x-python",
   "name": "python",
   "nbconvert_exporter": "python",
   "pygments_lexer": "ipython3",
   "version": "3.6.5"
  }
 },
 "nbformat": 4,
 "nbformat_minor": 2
}
