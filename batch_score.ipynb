{
 "cells": [
  {
   "cell_type": "code",
   "execution_count": 55,
   "metadata": {},
   "outputs": [],
   "source": [
    "import copy\n",
    "import datetime\n",
    "import matplotlib.pyplot as plt\n",
    "import numpy as np\n",
    "import xgboost as xgb\n",
    "import pyarrow.parquet as pq\n",
    "\n",
    "from tensorflow.keras import backend as K\n",
    "from tensorflow.keras.models import Model, load_model\n",
    "from xgboost import XGBClassifier, plot_importance\n",
    "\n",
    "from src.train.utils import build_numpy, fetch_file_list\n",
    "\n",
    "\n",
    "X_COLUMNS = slice(7, 76)\n",
    "CONTEXT_COLUMNS = slice(0, 7)\n",
    "np.random.seed(100)\n",
    "\n",
    "\n",
    "TEST_DATA_DIR = './testData/set1/'\n",
    "IS_CSV = False\n"
   ]
  },
  {
   "cell_type": "code",
   "execution_count": 56,
   "metadata": {},
   "outputs": [
    {
     "name": "stdout",
     "output_type": "stream",
     "text": [
      "/Users/lucindazhao/strava/ml-local/models/V0/xgboost-noWeight20200219-124349\n",
      "xgboost-noWeight20200219-124349\n"
     ]
    }
   ],
   "source": [
    "model_path = '/Users/lucindazhao/strava/ml-local/models/V0/xgboost-noWeight20200219-124349'\n",
    "print(model_path)\n",
    "pieces = model_path.split('/')\n",
    "model_id = pieces[-1]\n",
    "print(model_id)\n",
    "my_booster = xgb.Booster({})  # init model\n",
    "my_booster.load_model(model_path) \n",
    "my_model = xgb.XGBClassifier()\n",
    "my_model._Booster = my_booster\n"
   ]
  },
  {
   "cell_type": "code",
   "execution_count": 57,
   "metadata": {},
   "outputs": [
    {
     "name": "stdout",
     "output_type": "stream",
     "text": [
      "/Users/lucindazhao/strava/ml-local/models/V0/cnn_noWeight_lr=0.001_20200218-224657.h5\n",
      "cnn_noWeight_lr=0.001_20200218-224657.h5\n",
      "Model: \"model_47\"\n",
      "_________________________________________________________________\n",
      "Layer (type)                 Output Shape              Param #   \n",
      "=================================================================\n",
      "input_48 (InputLayer)        [(None, 69)]              0         \n",
      "_________________________________________________________________\n",
      "reshape_22 (Reshape)         (None, 69, 1)             0         \n",
      "_________________________________________________________________\n",
      "conv0 (Conv1D)               (None, 69, 32)            128       \n",
      "_________________________________________________________________\n",
      "batch0 (BatchNormalization)  (None, 69, 32)            128       \n",
      "_________________________________________________________________\n",
      "dropout_32 (Dropout)         (None, 69, 32)            0         \n",
      "_________________________________________________________________\n",
      "conv1 (Conv1D)               (None, 69, 32)            3104      \n",
      "_________________________________________________________________\n",
      "batch1 (BatchNormalization)  (None, 69, 32)            128       \n",
      "_________________________________________________________________\n",
      "dropout_33 (Dropout)         (None, 69, 32)            0         \n",
      "_________________________________________________________________\n",
      "conv2 (Conv1D)               (None, 69, 32)            3104      \n",
      "_________________________________________________________________\n",
      "batch2 (BatchNormalization)  (None, 69, 32)            128       \n",
      "_________________________________________________________________\n",
      "dropout_34 (Dropout)         (None, 69, 32)            0         \n",
      "_________________________________________________________________\n",
      "conv3 (Conv1D)               (None, 69, 32)            3104      \n",
      "_________________________________________________________________\n",
      "batch3 (BatchNormalization)  (None, 69, 32)            128       \n",
      "_________________________________________________________________\n",
      "dropout_35 (Dropout)         (None, 69, 32)            0         \n",
      "_________________________________________________________________\n",
      "conv5_0 (Conv1D)             (None, 65, 32)            5152      \n",
      "_________________________________________________________________\n",
      "batch5_0 (BatchNormalization (None, 65, 32)            128       \n",
      "_________________________________________________________________\n",
      "conv5_1 (Conv1D)             (None, 61, 32)            5152      \n",
      "_________________________________________________________________\n",
      "batch5_1 (BatchNormalization (None, 61, 32)            128       \n",
      "_________________________________________________________________\n",
      "conv5_2 (Conv1D)             (None, 57, 32)            5152      \n",
      "_________________________________________________________________\n",
      "batch5_2 (BatchNormalization (None, 57, 32)            128       \n",
      "_________________________________________________________________\n",
      "conv5_3 (Conv1D)             (None, 53, 32)            5152      \n",
      "_________________________________________________________________\n",
      "batch5_3 (BatchNormalization (None, 53, 32)            128       \n",
      "_________________________________________________________________\n",
      "conv5_4 (Conv1D)             (None, 49, 32)            5152      \n",
      "_________________________________________________________________\n",
      "batch5_4 (BatchNormalization (None, 49, 32)            128       \n",
      "_________________________________________________________________\n",
      "conv5_5 (Conv1D)             (None, 45, 32)            5152      \n",
      "_________________________________________________________________\n",
      "batch5_5 (BatchNormalization (None, 45, 32)            128       \n",
      "_________________________________________________________________\n",
      "conv5_6 (Conv1D)             (None, 41, 32)            5152      \n",
      "_________________________________________________________________\n",
      "batch5_6 (BatchNormalization (None, 41, 32)            128       \n",
      "_________________________________________________________________\n",
      "dropout_36 (Dropout)         (None, 41, 32)            0         \n",
      "_________________________________________________________________\n",
      "conv3_last3 (Conv1D)         (None, 41, 16)            1552      \n",
      "_________________________________________________________________\n",
      "conv3_last2 (Conv1D)         (None, 41, 8)             392       \n",
      "_________________________________________________________________\n",
      "conv3_last1 (Conv1D)         (None, 41, 4)             100       \n",
      "_________________________________________________________________\n",
      "lastNorm (BatchNormalization (None, 41, 4)             16        \n",
      "_________________________________________________________________\n",
      "dropout_37 (Dropout)         (None, 41, 4)             0         \n",
      "_________________________________________________________________\n",
      "reshape_23 (Reshape)         (None, 164)               0         \n",
      "_________________________________________________________________\n",
      "fc (Dense)                   (None, 16)                2640      \n",
      "_________________________________________________________________\n",
      "main_output (Dense)          (None, 2)                 34        \n",
      "=================================================================\n",
      "Total params: 51,646\n",
      "Trainable params: 50,934\n",
      "Non-trainable params: 712\n",
      "_________________________________________________________________\n",
      "None\n",
      "['loss', 'accuracy']\n",
      "1e-05\n"
     ]
    }
   ],
   "source": [
    "# load tf model\n",
    "tf_model_path = '/Users/lucindazhao/strava/ml-local/models/V0/cnn_noWeight_lr=0.001_20200218-224657.h5'\n",
    "print(tf_model_path)\n",
    "tf_pieces = tf_model_path.split('/')\n",
    "tf_model_id = tf_pieces[-1]\n",
    "print(tf_model_id)\n",
    "\n",
    "tf_model = load_model(tf_model_path)\n",
    "print(tf_model.summary())\n",
    "print(tf_model.metrics_names)\n",
    "print(K.eval(tf_model.optimizer.lr))\n"
   ]
  },
  {
   "cell_type": "code",
   "execution_count": null,
   "metadata": {},
   "outputs": [],
   "source": [
    "test_file_list = fetch_file_list(data_dir=TEST_DATA_DIR, portion=1)\n",
    "test_file_list"
   ]
  },
  {
   "cell_type": "code",
   "execution_count": 30,
   "metadata": {},
   "outputs": [],
   "source": [
    "!mkdir ./result/xgboost-noWeight20200219-124349"
   ]
  },
  {
   "cell_type": "code",
   "execution_count": 60,
   "metadata": {},
   "outputs": [
    {
     "name": "stdout",
     "output_type": "stream",
     "text": [
      "./testData/set1/part-00003-b3d99eb9-a9cf-4bdd-8c66-9942281e354e-c000.gz.parquet\n",
      "part-00003-b3d99eb9-a9cf-4bdd-8c66-9942281e354e-c000.gz.parquet\n",
      "./testData/set1/part-00001-b3d99eb9-a9cf-4bdd-8c66-9942281e354e-c000.gz.parquet\n",
      "part-00001-b3d99eb9-a9cf-4bdd-8c66-9942281e354e-c000.gz.parquet\n",
      "./testData/set1/part-00007-b3d99eb9-a9cf-4bdd-8c66-9942281e354e-c000.gz.parquet\n",
      "part-00007-b3d99eb9-a9cf-4bdd-8c66-9942281e354e-c000.gz.parquet\n",
      "./testData/set1/part-00005-b3d99eb9-a9cf-4bdd-8c66-9942281e354e-c000.gz.parquet\n",
      "part-00005-b3d99eb9-a9cf-4bdd-8c66-9942281e354e-c000.gz.parquet\n",
      "./testData/set1/part-00000-b3d99eb9-a9cf-4bdd-8c66-9942281e354e-c000.gz.parquet\n",
      "part-00000-b3d99eb9-a9cf-4bdd-8c66-9942281e354e-c000.gz.parquet\n",
      "./testData/set1/part-00002-b3d99eb9-a9cf-4bdd-8c66-9942281e354e-c000.gz.parquet\n",
      "part-00002-b3d99eb9-a9cf-4bdd-8c66-9942281e354e-c000.gz.parquet\n",
      "./testData/set1/part-00004-b3d99eb9-a9cf-4bdd-8c66-9942281e354e-c000.gz.parquet\n",
      "part-00004-b3d99eb9-a9cf-4bdd-8c66-9942281e354e-c000.gz.parquet\n",
      "./testData/set1/part-00006-b3d99eb9-a9cf-4bdd-8c66-9942281e354e-c000.gz.parquet\n",
      "part-00006-b3d99eb9-a9cf-4bdd-8c66-9942281e354e-c000.gz.parquet\n",
      "./testData/set1/part-00008-b3d99eb9-a9cf-4bdd-8c66-9942281e354e-c000.gz.parquet\n",
      "part-00008-b3d99eb9-a9cf-4bdd-8c66-9942281e354e-c000.gz.parquet\n"
     ]
    }
   ],
   "source": [
    "for file in test_file_list[1:]:\n",
    "    if IS_CSV:\n",
    "        # important to specify dtype explicitly to make sure tf can consume it\n",
    "        result = np.genfromtxt(file, dtype=np.float64, delimiter=',', skip_header=self.skip_header)\n",
    "    else:\n",
    "        # parquet\n",
    "        table = pq.read_table(file)\n",
    "        # important to specify dtype explicitly to make sure tf can consume it\n",
    "        result = table.to_pandas().to_numpy(dtype=np.float64)\n",
    "\n",
    "    X = result[:, X_COLUMNS]\n",
    "    #     temp = result[:, Y_COLUMNS]\n",
    "    #     # temp is 1d array. convert to 2d 'vector'\n",
    "    #     y = np.reshape(temp, (temp.shape[0], 1))\n",
    "    Z = result[:, CONTEXT_COLUMNS]\n",
    "\n",
    "    y_hat_xgb = my_model.predict_proba(X)\n",
    "    y_hat_tf = tf_model.predict(X)\n",
    "    y_scores_xgb = y_hat_xgb[:, 1].reshape(-1, 1)\n",
    "    y_scores_tf = y_hat_tf[:, 1].reshape(-1, 1)\n",
    "\n",
    "    final_output = np.concatenate((Z, y_scores_xgb, y_scores_tf), axis=1)\n",
    "\n",
    "    sorted_output =  final_output[final_output[:,7].argsort()[::-1]]\n",
    "\n",
    "    print(file)\n",
    "    tmp = file.split('/')\n",
    "    file_id = tmp[-1]\n",
    "    print(file_id)\n",
    "    np.savetxt(\"./result/{}/{}_sorted.csv\".format(model_id, file_id), sorted_output,\n",
    "               fmt=['%1.0f', '%4.0f', '%11d', '%11d', '%1.0f', '%5d', '%5d', '%1.3f', '%1.3f'],\n",
    "               delimiter=',', newline='\\n',\n",
    "               header='label,key,ACTIVITY_ID,ATHLETE_ID,SUPER_USER,NUM_KUDOS,NUM_MATCHING_ACTIVITIES,xgb_score,tf_score')\n"
   ]
  },
  {
   "cell_type": "code",
   "execution_count": 50,
   "metadata": {},
   "outputs": [],
   "source": [
    "file = test_file_list[0]\n",
    "\n",
    "if IS_CSV:\n",
    "    # important to specify dtype explicitly to make sure tf can consume it\n",
    "    result = np.genfromtxt(file, dtype=np.float64, delimiter=',', skip_header=self.skip_header)\n",
    "else:\n",
    "    # parquet\n",
    "    table = pq.read_table(file)\n",
    "    # important to specify dtype explicitly to make sure tf can consume it\n",
    "    result = table.to_pandas().to_numpy(dtype=np.float64)\n",
    "\n",
    "X = result[:, X_COLUMNS]\n",
    "#     temp = result[:, Y_COLUMNS]\n",
    "#     # temp is 1d array. convert to 2d 'vector'\n",
    "#     y = np.reshape(temp, (temp.shape[0], 1))\n",
    "Z = result[:, CONTEXT_COLUMNS]\n",
    "\n",
    "# y_hat = my_model.predict_proba(X)\n",
    "# y_scores = y_hat[:, 1].reshape(-1, 1)\n",
    "\n",
    "# final_output = np.concatenate((Z, y_scores), axis=1)\n",
    "\n",
    "# sorted_output =  final_output[final_output[:,7].argsort()[::-1]]\n",
    "\n",
    "# print(file)\n",
    "# tmp = file.split('/')\n",
    "# file_id = tmp[-1]\n",
    "# print(file_id)\n",
    "# np.savetxt(\"./result/{}/{}_sorted.csv\".format(model_id, file_id), sorted_output,\n",
    "#            fmt=['%1.0f', '%4.0f', '%38d', '%38d', '%1.0f', '%10.0f', '%10.0f', '%1.3f'],\n",
    "#            delimiter=',', newline='\\n',\n",
    "#            header='label, key, ACTIVITY_ID, ATHLETE_ID, SUPER_USER, NUM_KUDOS, NUM_MATCHING_ACTIVITIES, score')\n"
   ]
  },
  {
   "cell_type": "code",
   "execution_count": 52,
   "metadata": {},
   "outputs": [
    {
     "data": {
      "text/plain": [
       "array([2.78949846e+09, 2.76707502e+09, 2.81108123e+09, ...,\n",
       "       2.81038845e+09, 2.76364584e+09, 2.75227262e+09])"
      ]
     },
     "execution_count": 52,
     "metadata": {},
     "output_type": "execute_result"
    }
   ],
   "source": [
    "Z[:,2]"
   ]
  },
  {
   "cell_type": "code",
   "execution_count": 51,
   "metadata": {},
   "outputs": [
    {
     "data": {
      "text/plain": [
       "array([], shape=(0, 7), dtype=float64)"
      ]
     },
     "execution_count": 51,
     "metadata": {},
     "output_type": "execute_result"
    }
   ],
   "source": [
    "Z[np.where(Z[:,2] == 2766317056)]\n"
   ]
  },
  {
   "cell_type": "code",
   "execution_count": null,
   "metadata": {},
   "outputs": [],
   "source": []
  }
 ],
 "metadata": {
  "kernelspec": {
   "display_name": "Python 3",
   "language": "python",
   "name": "python3"
  },
  "language_info": {
   "codemirror_mode": {
    "name": "ipython",
    "version": 3
   },
   "file_extension": ".py",
   "mimetype": "text/x-python",
   "name": "python",
   "nbconvert_exporter": "python",
   "pygments_lexer": "ipython3",
   "version": "3.6.5"
  }
 },
 "nbformat": 4,
 "nbformat_minor": 4
}
