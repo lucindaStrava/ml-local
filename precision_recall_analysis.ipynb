{
 "cells": [
  {
   "cell_type": "code",
   "execution_count": 285,
   "metadata": {},
   "outputs": [],
   "source": [
    "import matplotlib.pyplot as plt\n",
    "import numpy as np\n",
    "from sklearn.metrics import accuracy_score, confusion_matrix\n",
    "from sklearn.metrics import precision_recall_curve\n",
    "\n",
    "\n",
    "# plot precision-recall\n",
    "def plot_precision_recall(list_of_precision, list_of_recall, x_label):\n",
    "    fig, ax = plt.subplots(figsize=(8, 4))\n",
    "    ax.grid(True)\n",
    "    ax.legend(loc='right')\n",
    "    ax.set_xlabel('Model Type')\n",
    "    ax.set_ylim(0.7, 1)\n",
    "    plt.title('Precision-Recall')\n",
    "    x = range(1, len(list_of_precision) + 1)\n",
    "    ax.plot(x, list_of_precision, '*-', label='Precision')\n",
    "    ax.plot(x, list_of_recall, '<-', label='Recall')    \n",
    "    plt.xticks(x, x_label, rotation='vertical')\n",
    "    ax.legend()\n",
    "    plt.show()\n"
   ]
  },
  {
   "cell_type": "code",
   "execution_count": 286,
   "metadata": {},
   "outputs": [],
   "source": [
    "# load result from csv as numpy\n",
    "result_file = \"/Users/lucindazhao/strava/ml-local/result/cnn_noWeight_lr=0.001_20200218-224657.h5.csv\"\n",
    "result = np.genfromtxt(result_file, delimiter=',', skip_header=1)\n"
   ]
  },
  {
   "cell_type": "code",
   "execution_count": 287,
   "metadata": {},
   "outputs": [
    {
     "data": {
      "text/plain": [
       "464452"
      ]
     },
     "execution_count": 287,
     "metadata": {},
     "output_type": "execute_result"
    }
   ],
   "source": [
    "len(result)"
   ]
  },
  {
   "cell_type": "code",
   "execution_count": 223,
   "metadata": {},
   "outputs": [],
   "source": [
    "# # for spark xgb\n",
    "# # for each row it's [label, is_validation, score]\n",
    "# v_list = result[(result[:,1] > 0.5)][:, [0,2]]\n"
   ]
  },
  {
   "cell_type": "code",
   "execution_count": 288,
   "metadata": {},
   "outputs": [],
   "source": [
    "# for local result\n",
    "v_list = result"
   ]
  },
  {
   "cell_type": "code",
   "execution_count": 289,
   "metadata": {},
   "outputs": [],
   "source": [
    "\n",
    "y_true = v_list[:, 0]\n",
    "y_scores = v_list[:, 1]"
   ]
  },
  {
   "cell_type": "code",
   "execution_count": 290,
   "metadata": {},
   "outputs": [
    {
     "name": "stdout",
     "output_type": "stream",
     "text": [
      "Number of Real eBike Rides:44888\n",
      "Number of Real Bike Rides:419564\n",
      "Percent of Mislabels: %9.664723157613704\n"
     ]
    }
   ],
   "source": [
    "num_p = np.count_nonzero(y_true > 0.5, axis=0)\n",
    "num_n = np.count_nonzero(y_true < 0.5, axis=0)\n",
    "mislabel_percent = num_p / (num_n + num_p) * 100\n",
    "\n",
    "# Here is the setting. We have num_p eBike and num_n bike but they are all labelled as 'bike', We'd like to plot\n",
    "# precision-recall curve based off the model\n",
    "\n",
    "print(\"Number of Real eBike Rides:\" + str(num_p))\n",
    "print(\"Number of Real Bike Rides:\" + str(num_n))\n",
    "print(\"Percent of Mislabels: %\" + str(mislabel_percent))"
   ]
  },
  {
   "cell_type": "code",
   "execution_count": 291,
   "metadata": {},
   "outputs": [
    {
     "name": "stdout",
     "output_type": "stream",
     "text": [
      "1001\n",
      "1002\n",
      "1002\n"
     ]
    }
   ],
   "source": [
    "pre, rec, thre = precision_recall_curve(y_true, y_scores)\n",
    "\n",
    "print(len(thre))\n",
    "print(len(pre))\n",
    "print(len(rec))\n",
    "\n",
    "myLength = len(thre)"
   ]
  },
  {
   "cell_type": "code",
   "execution_count": 292,
   "metadata": {},
   "outputs": [],
   "source": [
    "precision = pre[1:myLength]\n",
    "recall = rec[1:myLength]\n",
    "thresholds = thre[0:myLength - 1]"
   ]
  },
  {
   "cell_type": "code",
   "execution_count": 293,
   "metadata": {},
   "outputs": [
    {
     "data": {
      "image/png": "[encoded data removed]",
      "text/plain": [
       "<Figure size 432x288 with 1 Axes>"
      ]
     },
     "metadata": {
      "needs_background": "light"
     },
     "output_type": "display_data"
    }
   ],
   "source": [
    "plt.plot(\n",
    "    thresholds, precision, 'b',\n",
    "    label='Precision')\n",
    "plt.plot(\n",
    "    thresholds, recall, 'r',\n",
    "    label='Recall')\n",
    "plt.xlabel('thresholds')\n",
    "plt.grid(True)\n",
    "plt.ylabel('Precision vs Recall')\n",
    "plt.title('Activity Precision-Recall')\n",
    "plt.legend(loc='center left', bbox_to_anchor=(1, 0.5))\n",
    "# plt.legend(loc='upper right')\n",
    "plt.show()"
   ]
  },
  {
   "cell_type": "code",
   "execution_count": 294,
   "metadata": {},
   "outputs": [
    {
     "name": "stdout",
     "output_type": "stream",
     "text": [
      "10.591738090017255\n"
     ]
    }
   ],
   "source": [
    "# calculating X if targeting 1% positive samples\n",
    "X = num_p * 99 / num_n\n",
    "print(X)"
   ]
  },
  {
   "cell_type": "code",
   "execution_count": 295,
   "metadata": {},
   "outputs": [],
   "source": [
    "# Calculate scaled precision-recall, here are the formulas\n",
    "\n",
    "# precision = tp / (tp + fp)\n",
    "# recall = tp / (tp + fn) = tp / num_p\n",
    "# tp = recall * num_p\n",
    "# fp = tp / precision - tp\n",
    "\n",
    "# now assuming we scale negative labels by X times\n",
    "# tp_new = tp\n",
    "# fp_new = fp * X = (tp/precision - tp) * X\n",
    "# precision_new = tp_new / (tp_new + fp_new)\n",
    "# recall_new = tp_new / num_p = recall"
   ]
  },
  {
   "cell_type": "code",
   "execution_count": 296,
   "metadata": {},
   "outputs": [],
   "source": [
    "# binary search\n",
    "def search(x, target):\n",
    "    l = 0\n",
    "    r = len(x)\n",
    "    while l < r:\n",
    "        m = (l + r) // 2\n",
    "        if x[m] >= target:\n",
    "            r = m\n",
    "        else:\n",
    "            l = m + 1\n",
    "    return l"
   ]
  },
  {
   "cell_type": "code",
   "execution_count": 297,
   "metadata": {},
   "outputs": [],
   "source": [
    "# idx = search(thresholds, 0.999)\n",
    "# L = len(precision)\n",
    "# pre = precision[idx:-1]\n",
    "# re = recall[idx:-1]\n",
    "# thre = thresholds[idx:-1]"
   ]
  },
  {
   "cell_type": "code",
   "execution_count": 298,
   "metadata": {},
   "outputs": [],
   "source": [
    "tp = recall * num_p\n",
    "fp_new = (np.divide(tp, precision) - tp) * X\n",
    "precision_new = np.divide(tp, tp + fp_new)\n"
   ]
  },
  {
   "cell_type": "code",
   "execution_count": 299,
   "metadata": {
    "scrolled": true
   },
   "outputs": [
    {
     "data": {
      "image/png": "[encoded data removed]",
      "text/plain": [
       "<Figure size 432x288 with 1 Axes>"
      ]
     },
     "metadata": {
      "needs_background": "light"
     },
     "output_type": "display_data"
    }
   ],
   "source": [
    "plt.plot(\n",
    "    thresholds, precision_new, 'b',\n",
    "    label='Precision')\n",
    "plt.plot(\n",
    "    thresholds, recall, 'r',\n",
    "    label='Recall')\n",
    "plt.xlabel('thresholds')\n",
    "plt.grid(True)\n",
    "plt.ylabel('Precision vs Recall')\n",
    "plt.title('Activity Precision-Recall (scaled)')\n",
    "plt.legend(loc='center left', bbox_to_anchor=(1, 0.5))\n",
    "# plt.legend(loc='upper right')\n",
    "plt.show()"
   ]
  },
  {
   "cell_type": "code",
   "execution_count": 300,
   "metadata": {},
   "outputs": [
    {
     "name": "stdout",
     "output_type": "stream",
     "text": [
      "80.0% precision --> 8.730618428087684% recall. Threshold=0.933\n",
      "90.0% precision --> 4.729549099982178% recall. Threshold=0.972\n"
     ]
    }
   ],
   "source": [
    "# print interesting points\n",
    "pThrs = [0.8, 0.9]\n",
    "for pThr in pThrs:\n",
    "    pIdx = search(precision_new, pThr)\n",
    "    print(\"{}% precision --> {}% recall. Threshold={}\".format(pThr*100, recall[pIdx]*100, thresholds[pIdx]))"
   ]
  },
  {
   "cell_type": "markdown",
   "metadata": {},
   "source": [
    "# Compare score distribution"
   ]
  },
  {
   "cell_type": "code",
   "execution_count": 301,
   "metadata": {},
   "outputs": [],
   "source": [
    "p_scores = v_list[(v_list[:, 0] > 0.5), 1]\n",
    "\n",
    "n_scores = v_list[(v_list[:, 0] < 0.5), 1]\n",
    "\n"
   ]
  },
  {
   "cell_type": "code",
   "execution_count": 302,
   "metadata": {},
   "outputs": [],
   "source": [
    "p_histogram = np.histogram(p_scores,bins=10) \n",
    "n_histogram = np.histogram(n_scores, bins=10) "
   ]
  },
  {
   "cell_type": "code",
   "execution_count": 303,
   "metadata": {},
   "outputs": [
    {
     "data": {
      "text/plain": [
       "(array([11706,  5885,  3854,  3288,  2996,  2874,  2952,  2996,  3148,\n",
       "         5189]),\n",
       " array([0. , 0.1, 0.2, 0.3, 0.4, 0.5, 0.6, 0.7, 0.8, 0.9, 1. ]))"
      ]
     },
     "execution_count": 303,
     "metadata": {},
     "output_type": "execute_result"
    }
   ],
   "source": [
    "p_histogram"
   ]
  },
  {
   "cell_type": "code",
   "execution_count": 304,
   "metadata": {},
   "outputs": [],
   "source": [
    "# import ast\n",
    "# def toNumpy(xx):\n",
    "#     x = sorted(xx)\n",
    "#     buckets = np.array([e[0] for e in x])\n",
    "#     freq = np.array([e[1] for e in x])\n",
    "#     c = sum(freq)\n",
    "#     freq = freq / c * 100\n",
    "#     return (buckets, freq, c)\n",
    "\n",
    "# list1 = toNumpy(ast.literal_eval(negativeHis[0]['histo']))\n",
    "# list2 = toNumpy(ast.literal_eval(positiveHis[0]['histo']))\n",
    "# list3 = toNumpy(ast.literal_eval(mockAppHis[0]['histo']))"
   ]
  },
  {
   "cell_type": "code",
   "execution_count": 305,
   "metadata": {},
   "outputs": [],
   "source": [
    "list_p = []\n",
    "p_freq = p_histogram[0] / sum(p_histogram[0]) * 100\n",
    "list_p.append(p_histogram[1][1:])\n",
    "list_p.append(p_freq)\n",
    "\n"
   ]
  },
  {
   "cell_type": "code",
   "execution_count": 306,
   "metadata": {},
   "outputs": [],
   "source": [
    "list_n = []\n",
    "n_freq = n_histogram[0] / sum(n_histogram[0]) * 100\n",
    "list_n.append(n_histogram[1][1:])\n",
    "list_n.append(n_freq)"
   ]
  },
  {
   "cell_type": "code",
   "execution_count": 307,
   "metadata": {},
   "outputs": [],
   "source": [
    "import matplotlib.pyplot as plt\n",
    "import math\n",
    "import numpy as np\n",
    "\n",
    "def plot_histogram(p, axs, list1, my_title='Score Distribution (Positive Label)', color='r'):\n",
    "    # list1 is a tuple where list1[0] is numpy array of bucket and list1[1] is numpy array of frequency\n",
    "    x_axis = np.array(list1[0])\n",
    "    bar_width = 1.0 / len(list1[0]) * 0.6\n",
    "    opacity = 1\n",
    "    rects1 = axs.bar(list1[0], list1[1], bar_width,\n",
    "                     alpha=opacity,\n",
    "                     color=color,\n",
    "                     label=\"Distribution\")\n",
    "    p.title(my_title)\n",
    "    p.xticks(rotation=90)\n",
    "    p.xticks(x_axis, list(map(lambda v: '{:6.2f}'.format(v), list1[0])))\n",
    "    axs.ylabel(\"Percent\")\n",
    "    axs.xlabel(\"Score\")\n",
    "    # axs.xlabel(\"Error In %\")\n",
    "    axs.legend()\n",
    "    \n",
    "\n",
    "def plot_overall_histogram(p, axs, list_n, list_p, my_title='Score Distribution'):\n",
    "    # list1 is a tuple where list1[0] is numpy array of bucket and list1[1] is numpy array of frequency\n",
    "    x_axis = np.array(list_n[0])\n",
    "    bar_width = 1.0 / len(list_n[0]) * 0.6\n",
    "    opacity = 0.4\n",
    "    rects1 = axs.bar(list_n[0], list_n[1], bar_width,\n",
    "                     alpha=opacity,\n",
    "                     color='b',\n",
    "                     label=\"Distribution (Negative Label)\")\n",
    "    rects2 = axs.bar(list_p[0], list_p[1], bar_width,\n",
    "                     alpha=1,\n",
    "                     color='r',\n",
    "                     label=\"Distribution (Positive Label)\")\n",
    "    p.title(my_title)\n",
    "    p.xticks(rotation=90)\n",
    "    p.xticks(x_axis, list(map(lambda v: '{:6.2f}'.format(v), list_n[0])))\n",
    "    axs.ylabel(\"Sample Count\")\n",
    "    axs.xlabel(\"Score\")\n",
    "    # axs.xlabel(\"Error In %\")\n",
    "    axs.legend()"
   ]
  },
  {
   "cell_type": "code",
   "execution_count": 308,
   "metadata": {
    "scrolled": true
   },
   "outputs": [
    {
     "data": {
      "image/png": "[encoded data removed]",
      "text/plain": [
       "<Figure size 432x288 with 1 Axes>"
      ]
     },
     "metadata": {
      "needs_background": "light"
     },
     "output_type": "display_data"
    }
   ],
   "source": [
    "plot_histogram(plt, plt, list_p, my_title='Score Distribution (Positive Label)', color='r')\n",
    "plt.show()"
   ]
  },
  {
   "cell_type": "code",
   "execution_count": 309,
   "metadata": {},
   "outputs": [
    {
     "data": {
      "image/png": "[encoded data removed]",
      "text/plain": [
       "<Figure size 432x288 with 1 Axes>"
      ]
     },
     "metadata": {
      "needs_background": "light"
     },
     "output_type": "display_data"
    }
   ],
   "source": [
    "plot_histogram(plt, plt, list_n, my_title='Score Distribution (Negative Label)', color='b')\n",
    "plt.show()"
   ]
  },
  {
   "cell_type": "code",
   "execution_count": 310,
   "metadata": {},
   "outputs": [
    {
     "data": {
      "image/png": "[encoded data removed]",
      "text/plain": [
       "<Figure size 432x288 with 1 Axes>"
      ]
     },
     "metadata": {
      "needs_background": "light"
     },
     "output_type": "display_data"
    }
   ],
   "source": [
    "list_p = []\n",
    "list_p.append(p_histogram[1][1:])\n",
    "list_p.append(p_histogram[0][:])\n",
    "\n",
    "list_n = []\n",
    "list_n.append(n_histogram[1][1:])\n",
    "list_n.append(n_histogram[0][:])\n",
    "\n",
    "plot_overall_histogram(plt, plt, list_n, list_p)\n",
    "plt.show()\n"
   ]
  },
  {
   "cell_type": "code",
   "execution_count": 311,
   "metadata": {},
   "outputs": [
    {
     "data": {
      "text/plain": [
       "array([0., 0.])"
      ]
     },
     "execution_count": 311,
     "metadata": {},
     "output_type": "execute_result"
    }
   ],
   "source": [
    "y_true[[1,2]]"
   ]
  },
  {
   "cell_type": "code",
   "execution_count": 312,
   "metadata": {},
   "outputs": [
    {
     "data": {
      "text/plain": [
       "(464452,)"
      ]
     },
     "execution_count": 312,
     "metadata": {},
     "output_type": "execute_result"
    }
   ],
   "source": [
    "y_true.shape"
   ]
  },
  {
   "cell_type": "markdown",
   "metadata": {},
   "source": [
    "# Plot accuracy curve"
   ]
  },
  {
   "cell_type": "code",
   "execution_count": 313,
   "metadata": {},
   "outputs": [],
   "source": [
    "# accuracy is the average of accuracy|negative label and accuracy|positive label\n",
    "\n",
    "# precision = tp / (tp + fp)\n",
    "# recall = tp / (tp + fn) = tp / num_p\n",
    "\n",
    "\n",
    "tp = recall * num_p\n",
    "fn = num_p - tp\n",
    "fp = tp *(1/ precision - 1)\n",
    "tn = num_n - fp\n",
    "\n",
    "accuracy_p = recall\n",
    "accuracy_n = tn / num_n\n",
    "accuracy = (accuracy_p + accuracy_n) / 2\n"
   ]
  },
  {
   "cell_type": "code",
   "execution_count": 314,
   "metadata": {},
   "outputs": [
    {
     "data": {
      "image/png": "[encoded data removed]",
      "text/plain": [
       "<Figure size 432x288 with 1 Axes>"
      ]
     },
     "metadata": {
      "needs_background": "light"
     },
     "output_type": "display_data"
    }
   ],
   "source": [
    "# plt.plot(\n",
    "#     thresholds, accuracy, 'b',\n",
    "#     label='Accuracy')\n",
    "plt.plot(\n",
    "    thresholds, accuracy_p, 'r',\n",
    "    label='Accuracy (Positive Label)')\n",
    "plt.plot(\n",
    "    thresholds, accuracy_n, 'g',\n",
    "    label='Accuracy (Negative Label)')\n",
    "plt.xlabel('thresholds')\n",
    "plt.grid(True)\n",
    "plt.ylabel('Accuracy')\n",
    "plt.title('Accuracy Curve')\n",
    "plt.legend(loc='center left', bbox_to_anchor=(1, 0.5))\n",
    "# plt.legend(loc='upper right')\n",
    "plt.show()"
   ]
  },
  {
   "cell_type": "code",
   "execution_count": 316,
   "metadata": {},
   "outputs": [
    {
     "name": "stdout",
     "output_type": "stream",
     "text": [
      "P99.0 of Probability on Negative Label  --> Threshold=0.47\n",
      "P99.9 of Probability on Negative Label  --> Threshold=0.825\n"
     ]
    }
   ],
   "source": [
    "# print interesting perccentiles for accuracy_p \n",
    "pThrs = [0.99, 0.999]\n",
    "for pThr in pThrs:\n",
    "    pIdx = search(accuracy_n, pThr)\n",
    "    print(\"P{} of Probability on Negative Label  --> Threshold={}\".format(pThr*100, thresholds[pIdx]))"
   ]
  },
  {
   "cell_type": "code",
   "execution_count": null,
   "metadata": {},
   "outputs": [],
   "source": []
  }
 ],
 "metadata": {
  "kernelspec": {
   "display_name": "Python 3",
   "language": "python",
   "name": "python3"
  },
  "language_info": {
   "codemirror_mode": {
    "name": "ipython",
    "version": 3
   },
   "file_extension": ".py",
   "mimetype": "text/x-python",
   "name": "python",
   "nbconvert_exporter": "python",
   "pygments_lexer": "ipython3",
   "version": "3.6.5"
  }
 },
 "nbformat": 4,
 "nbformat_minor": 2
}
